{
  "nbformat": 4,
  "nbformat_minor": 0,
  "metadata": {
    "colab": {
      "provenance": [],
      "authorship_tag": "ABX9TyMtodXyVQ/7PiOyk24I8ALv",
      "include_colab_link": true
    },
    "kernelspec": {
      "name": "python3",
      "display_name": "Python 3"
    },
    "language_info": {
      "name": "python"
    }
  },
  "cells": [
    {
      "cell_type": "markdown",
      "metadata": {
        "id": "view-in-github",
        "colab_type": "text"
      },
      "source": [
        "<a href=\"https://colab.research.google.com/github/sabatn/ML/blob/main/ML1.ipynb\" target=\"_parent\"><img src=\"https://colab.research.google.com/assets/colab-badge.svg\" alt=\"Open In Colab\"/></a>"
      ]
    },
    {
      "cell_type": "code",
      "execution_count": 1,
      "metadata": {
        "id": "QM8IWZl3kARm"
      },
      "outputs": [],
      "source": [
        "import numpy as np\n",
        "import pandas as pd\n"
      ]
    },
    {
      "cell_type": "code",
      "source": [
        "df = pd.read_csv(\"https://raw.githubusercontent.com/RafsanJany-44/Machine-School/main/datasets/weather.csv\")"
      ],
      "metadata": {
        "id": "9INa3ckplV9N"
      },
      "execution_count": 2,
      "outputs": []
    },
    {
      "cell_type": "code",
      "source": [
        "df.head(10)"
      ],
      "metadata": {
        "colab": {
          "base_uri": "https://localhost:8080/",
          "height": 456
        },
        "id": "H7VkIjKRlW3Z",
        "outputId": "c9498df3-b455-4325-e61a-4951600c7b0a"
      },
      "execution_count": 3,
      "outputs": [
        {
          "output_type": "execute_result",
          "data": {
            "text/plain": [
              "   MinTemp  MaxTemp  Rainfall  Evaporation  Sunshine WindGustDir  \\\n",
              "0      8.0     24.3       0.0          3.4       6.3          NW   \n",
              "1     14.0     26.9       3.6          4.4       9.7         ENE   \n",
              "2     13.7     23.4       3.6          5.8       3.3          NW   \n",
              "3     13.3     15.5      39.8          7.2       9.1          NW   \n",
              "4      7.6     16.1       2.8          5.6      10.6         SSE   \n",
              "5      6.2     16.9       0.0          5.8       8.2          SE   \n",
              "6      6.1     18.2       0.2          4.2       8.4          SE   \n",
              "7      8.3     17.0       0.0          5.6       4.6           E   \n",
              "8      8.8     19.5       0.0          4.0       4.1           S   \n",
              "9      8.4     22.8      16.2          5.4       7.7           E   \n",
              "\n",
              "   WindGustSpeed WindDir9am WindDir3pm  WindSpeed9am  ...  Humidity3pm  \\\n",
              "0           30.0         SW         NW           6.0  ...           29   \n",
              "1           39.0          E          W           4.0  ...           36   \n",
              "2           85.0          N        NNE           6.0  ...           69   \n",
              "3           54.0        WNW          W          30.0  ...           56   \n",
              "4           50.0        SSE        ESE          20.0  ...           49   \n",
              "5           44.0         SE          E          20.0  ...           57   \n",
              "6           43.0         SE        ESE          19.0  ...           47   \n",
              "7           41.0         SE          E          11.0  ...           57   \n",
              "8           48.0          E        ENE          19.0  ...           48   \n",
              "9           31.0          S        ESE           7.0  ...           32   \n",
              "\n",
              "   Pressure9am  Pressure3pm  Cloud9am  Cloud3pm  Temp9am  Temp3pm  RainToday  \\\n",
              "0       1019.7       1015.0         7         7     14.4     23.6         No   \n",
              "1       1012.4       1008.4         5         3     17.5     25.7        Yes   \n",
              "2       1009.5       1007.2         8         7     15.4     20.2        Yes   \n",
              "3       1005.5       1007.0         2         7     13.5     14.1        Yes   \n",
              "4       1018.3       1018.5         7         7     11.1     15.4        Yes   \n",
              "5       1023.8       1021.7         7         5     10.9     14.8         No   \n",
              "6       1024.6       1022.2         4         6     12.4     17.3         No   \n",
              "7       1026.2       1024.2         6         7     12.1     15.5         No   \n",
              "8       1026.1       1022.7         7         7     14.1     18.9         No   \n",
              "9       1024.1       1020.7         7         1     13.3     21.7        Yes   \n",
              "\n",
              "   RISK_MM RainTomorrow  \n",
              "0      3.6          Yes  \n",
              "1      3.6          Yes  \n",
              "2     39.8          Yes  \n",
              "3      2.8          Yes  \n",
              "4      0.0           No  \n",
              "5      0.2           No  \n",
              "6      0.0           No  \n",
              "7      0.0           No  \n",
              "8     16.2          Yes  \n",
              "9      0.0           No  \n",
              "\n",
              "[10 rows x 22 columns]"
            ],
            "text/html": [
              "\n",
              "  <div id=\"df-a591a6d5-8d81-4c20-8a2b-fa9820a9cd87\">\n",
              "    <div class=\"colab-df-container\">\n",
              "      <div>\n",
              "<style scoped>\n",
              "    .dataframe tbody tr th:only-of-type {\n",
              "        vertical-align: middle;\n",
              "    }\n",
              "\n",
              "    .dataframe tbody tr th {\n",
              "        vertical-align: top;\n",
              "    }\n",
              "\n",
              "    .dataframe thead th {\n",
              "        text-align: right;\n",
              "    }\n",
              "</style>\n",
              "<table border=\"1\" class=\"dataframe\">\n",
              "  <thead>\n",
              "    <tr style=\"text-align: right;\">\n",
              "      <th></th>\n",
              "      <th>MinTemp</th>\n",
              "      <th>MaxTemp</th>\n",
              "      <th>Rainfall</th>\n",
              "      <th>Evaporation</th>\n",
              "      <th>Sunshine</th>\n",
              "      <th>WindGustDir</th>\n",
              "      <th>WindGustSpeed</th>\n",
              "      <th>WindDir9am</th>\n",
              "      <th>WindDir3pm</th>\n",
              "      <th>WindSpeed9am</th>\n",
              "      <th>...</th>\n",
              "      <th>Humidity3pm</th>\n",
              "      <th>Pressure9am</th>\n",
              "      <th>Pressure3pm</th>\n",
              "      <th>Cloud9am</th>\n",
              "      <th>Cloud3pm</th>\n",
              "      <th>Temp9am</th>\n",
              "      <th>Temp3pm</th>\n",
              "      <th>RainToday</th>\n",
              "      <th>RISK_MM</th>\n",
              "      <th>RainTomorrow</th>\n",
              "    </tr>\n",
              "  </thead>\n",
              "  <tbody>\n",
              "    <tr>\n",
              "      <th>0</th>\n",
              "      <td>8.0</td>\n",
              "      <td>24.3</td>\n",
              "      <td>0.0</td>\n",
              "      <td>3.4</td>\n",
              "      <td>6.3</td>\n",
              "      <td>NW</td>\n",
              "      <td>30.0</td>\n",
              "      <td>SW</td>\n",
              "      <td>NW</td>\n",
              "      <td>6.0</td>\n",
              "      <td>...</td>\n",
              "      <td>29</td>\n",
              "      <td>1019.7</td>\n",
              "      <td>1015.0</td>\n",
              "      <td>7</td>\n",
              "      <td>7</td>\n",
              "      <td>14.4</td>\n",
              "      <td>23.6</td>\n",
              "      <td>No</td>\n",
              "      <td>3.6</td>\n",
              "      <td>Yes</td>\n",
              "    </tr>\n",
              "    <tr>\n",
              "      <th>1</th>\n",
              "      <td>14.0</td>\n",
              "      <td>26.9</td>\n",
              "      <td>3.6</td>\n",
              "      <td>4.4</td>\n",
              "      <td>9.7</td>\n",
              "      <td>ENE</td>\n",
              "      <td>39.0</td>\n",
              "      <td>E</td>\n",
              "      <td>W</td>\n",
              "      <td>4.0</td>\n",
              "      <td>...</td>\n",
              "      <td>36</td>\n",
              "      <td>1012.4</td>\n",
              "      <td>1008.4</td>\n",
              "      <td>5</td>\n",
              "      <td>3</td>\n",
              "      <td>17.5</td>\n",
              "      <td>25.7</td>\n",
              "      <td>Yes</td>\n",
              "      <td>3.6</td>\n",
              "      <td>Yes</td>\n",
              "    </tr>\n",
              "    <tr>\n",
              "      <th>2</th>\n",
              "      <td>13.7</td>\n",
              "      <td>23.4</td>\n",
              "      <td>3.6</td>\n",
              "      <td>5.8</td>\n",
              "      <td>3.3</td>\n",
              "      <td>NW</td>\n",
              "      <td>85.0</td>\n",
              "      <td>N</td>\n",
              "      <td>NNE</td>\n",
              "      <td>6.0</td>\n",
              "      <td>...</td>\n",
              "      <td>69</td>\n",
              "      <td>1009.5</td>\n",
              "      <td>1007.2</td>\n",
              "      <td>8</td>\n",
              "      <td>7</td>\n",
              "      <td>15.4</td>\n",
              "      <td>20.2</td>\n",
              "      <td>Yes</td>\n",
              "      <td>39.8</td>\n",
              "      <td>Yes</td>\n",
              "    </tr>\n",
              "    <tr>\n",
              "      <th>3</th>\n",
              "      <td>13.3</td>\n",
              "      <td>15.5</td>\n",
              "      <td>39.8</td>\n",
              "      <td>7.2</td>\n",
              "      <td>9.1</td>\n",
              "      <td>NW</td>\n",
              "      <td>54.0</td>\n",
              "      <td>WNW</td>\n",
              "      <td>W</td>\n",
              "      <td>30.0</td>\n",
              "      <td>...</td>\n",
              "      <td>56</td>\n",
              "      <td>1005.5</td>\n",
              "      <td>1007.0</td>\n",
              "      <td>2</td>\n",
              "      <td>7</td>\n",
              "      <td>13.5</td>\n",
              "      <td>14.1</td>\n",
              "      <td>Yes</td>\n",
              "      <td>2.8</td>\n",
              "      <td>Yes</td>\n",
              "    </tr>\n",
              "    <tr>\n",
              "      <th>4</th>\n",
              "      <td>7.6</td>\n",
              "      <td>16.1</td>\n",
              "      <td>2.8</td>\n",
              "      <td>5.6</td>\n",
              "      <td>10.6</td>\n",
              "      <td>SSE</td>\n",
              "      <td>50.0</td>\n",
              "      <td>SSE</td>\n",
              "      <td>ESE</td>\n",
              "      <td>20.0</td>\n",
              "      <td>...</td>\n",
              "      <td>49</td>\n",
              "      <td>1018.3</td>\n",
              "      <td>1018.5</td>\n",
              "      <td>7</td>\n",
              "      <td>7</td>\n",
              "      <td>11.1</td>\n",
              "      <td>15.4</td>\n",
              "      <td>Yes</td>\n",
              "      <td>0.0</td>\n",
              "      <td>No</td>\n",
              "    </tr>\n",
              "    <tr>\n",
              "      <th>5</th>\n",
              "      <td>6.2</td>\n",
              "      <td>16.9</td>\n",
              "      <td>0.0</td>\n",
              "      <td>5.8</td>\n",
              "      <td>8.2</td>\n",
              "      <td>SE</td>\n",
              "      <td>44.0</td>\n",
              "      <td>SE</td>\n",
              "      <td>E</td>\n",
              "      <td>20.0</td>\n",
              "      <td>...</td>\n",
              "      <td>57</td>\n",
              "      <td>1023.8</td>\n",
              "      <td>1021.7</td>\n",
              "      <td>7</td>\n",
              "      <td>5</td>\n",
              "      <td>10.9</td>\n",
              "      <td>14.8</td>\n",
              "      <td>No</td>\n",
              "      <td>0.2</td>\n",
              "      <td>No</td>\n",
              "    </tr>\n",
              "    <tr>\n",
              "      <th>6</th>\n",
              "      <td>6.1</td>\n",
              "      <td>18.2</td>\n",
              "      <td>0.2</td>\n",
              "      <td>4.2</td>\n",
              "      <td>8.4</td>\n",
              "      <td>SE</td>\n",
              "      <td>43.0</td>\n",
              "      <td>SE</td>\n",
              "      <td>ESE</td>\n",
              "      <td>19.0</td>\n",
              "      <td>...</td>\n",
              "      <td>47</td>\n",
              "      <td>1024.6</td>\n",
              "      <td>1022.2</td>\n",
              "      <td>4</td>\n",
              "      <td>6</td>\n",
              "      <td>12.4</td>\n",
              "      <td>17.3</td>\n",
              "      <td>No</td>\n",
              "      <td>0.0</td>\n",
              "      <td>No</td>\n",
              "    </tr>\n",
              "    <tr>\n",
              "      <th>7</th>\n",
              "      <td>8.3</td>\n",
              "      <td>17.0</td>\n",
              "      <td>0.0</td>\n",
              "      <td>5.6</td>\n",
              "      <td>4.6</td>\n",
              "      <td>E</td>\n",
              "      <td>41.0</td>\n",
              "      <td>SE</td>\n",
              "      <td>E</td>\n",
              "      <td>11.0</td>\n",
              "      <td>...</td>\n",
              "      <td>57</td>\n",
              "      <td>1026.2</td>\n",
              "      <td>1024.2</td>\n",
              "      <td>6</td>\n",
              "      <td>7</td>\n",
              "      <td>12.1</td>\n",
              "      <td>15.5</td>\n",
              "      <td>No</td>\n",
              "      <td>0.0</td>\n",
              "      <td>No</td>\n",
              "    </tr>\n",
              "    <tr>\n",
              "      <th>8</th>\n",
              "      <td>8.8</td>\n",
              "      <td>19.5</td>\n",
              "      <td>0.0</td>\n",
              "      <td>4.0</td>\n",
              "      <td>4.1</td>\n",
              "      <td>S</td>\n",
              "      <td>48.0</td>\n",
              "      <td>E</td>\n",
              "      <td>ENE</td>\n",
              "      <td>19.0</td>\n",
              "      <td>...</td>\n",
              "      <td>48</td>\n",
              "      <td>1026.1</td>\n",
              "      <td>1022.7</td>\n",
              "      <td>7</td>\n",
              "      <td>7</td>\n",
              "      <td>14.1</td>\n",
              "      <td>18.9</td>\n",
              "      <td>No</td>\n",
              "      <td>16.2</td>\n",
              "      <td>Yes</td>\n",
              "    </tr>\n",
              "    <tr>\n",
              "      <th>9</th>\n",
              "      <td>8.4</td>\n",
              "      <td>22.8</td>\n",
              "      <td>16.2</td>\n",
              "      <td>5.4</td>\n",
              "      <td>7.7</td>\n",
              "      <td>E</td>\n",
              "      <td>31.0</td>\n",
              "      <td>S</td>\n",
              "      <td>ESE</td>\n",
              "      <td>7.0</td>\n",
              "      <td>...</td>\n",
              "      <td>32</td>\n",
              "      <td>1024.1</td>\n",
              "      <td>1020.7</td>\n",
              "      <td>7</td>\n",
              "      <td>1</td>\n",
              "      <td>13.3</td>\n",
              "      <td>21.7</td>\n",
              "      <td>Yes</td>\n",
              "      <td>0.0</td>\n",
              "      <td>No</td>\n",
              "    </tr>\n",
              "  </tbody>\n",
              "</table>\n",
              "<p>10 rows × 22 columns</p>\n",
              "</div>\n",
              "      <button class=\"colab-df-convert\" onclick=\"convertToInteractive('df-a591a6d5-8d81-4c20-8a2b-fa9820a9cd87')\"\n",
              "              title=\"Convert this dataframe to an interactive table.\"\n",
              "              style=\"display:none;\">\n",
              "        \n",
              "  <svg xmlns=\"http://www.w3.org/2000/svg\" height=\"24px\"viewBox=\"0 0 24 24\"\n",
              "       width=\"24px\">\n",
              "    <path d=\"M0 0h24v24H0V0z\" fill=\"none\"/>\n",
              "    <path d=\"M18.56 5.44l.94 2.06.94-2.06 2.06-.94-2.06-.94-.94-2.06-.94 2.06-2.06.94zm-11 1L8.5 8.5l.94-2.06 2.06-.94-2.06-.94L8.5 2.5l-.94 2.06-2.06.94zm10 10l.94 2.06.94-2.06 2.06-.94-2.06-.94-.94-2.06-.94 2.06-2.06.94z\"/><path d=\"M17.41 7.96l-1.37-1.37c-.4-.4-.92-.59-1.43-.59-.52 0-1.04.2-1.43.59L10.3 9.45l-7.72 7.72c-.78.78-.78 2.05 0 2.83L4 21.41c.39.39.9.59 1.41.59.51 0 1.02-.2 1.41-.59l7.78-7.78 2.81-2.81c.8-.78.8-2.07 0-2.86zM5.41 20L4 18.59l7.72-7.72 1.47 1.35L5.41 20z\"/>\n",
              "  </svg>\n",
              "      </button>\n",
              "      \n",
              "  <style>\n",
              "    .colab-df-container {\n",
              "      display:flex;\n",
              "      flex-wrap:wrap;\n",
              "      gap: 12px;\n",
              "    }\n",
              "\n",
              "    .colab-df-convert {\n",
              "      background-color: #E8F0FE;\n",
              "      border: none;\n",
              "      border-radius: 50%;\n",
              "      cursor: pointer;\n",
              "      display: none;\n",
              "      fill: #1967D2;\n",
              "      height: 32px;\n",
              "      padding: 0 0 0 0;\n",
              "      width: 32px;\n",
              "    }\n",
              "\n",
              "    .colab-df-convert:hover {\n",
              "      background-color: #E2EBFA;\n",
              "      box-shadow: 0px 1px 2px rgba(60, 64, 67, 0.3), 0px 1px 3px 1px rgba(60, 64, 67, 0.15);\n",
              "      fill: #174EA6;\n",
              "    }\n",
              "\n",
              "    [theme=dark] .colab-df-convert {\n",
              "      background-color: #3B4455;\n",
              "      fill: #D2E3FC;\n",
              "    }\n",
              "\n",
              "    [theme=dark] .colab-df-convert:hover {\n",
              "      background-color: #434B5C;\n",
              "      box-shadow: 0px 1px 3px 1px rgba(0, 0, 0, 0.15);\n",
              "      filter: drop-shadow(0px 1px 2px rgba(0, 0, 0, 0.3));\n",
              "      fill: #FFFFFF;\n",
              "    }\n",
              "  </style>\n",
              "\n",
              "      <script>\n",
              "        const buttonEl =\n",
              "          document.querySelector('#df-a591a6d5-8d81-4c20-8a2b-fa9820a9cd87 button.colab-df-convert');\n",
              "        buttonEl.style.display =\n",
              "          google.colab.kernel.accessAllowed ? 'block' : 'none';\n",
              "\n",
              "        async function convertToInteractive(key) {\n",
              "          const element = document.querySelector('#df-a591a6d5-8d81-4c20-8a2b-fa9820a9cd87');\n",
              "          const dataTable =\n",
              "            await google.colab.kernel.invokeFunction('convertToInteractive',\n",
              "                                                     [key], {});\n",
              "          if (!dataTable) return;\n",
              "\n",
              "          const docLinkHtml = 'Like what you see? Visit the ' +\n",
              "            '<a target=\"_blank\" href=https://colab.research.google.com/notebooks/data_table.ipynb>data table notebook</a>'\n",
              "            + ' to learn more about interactive tables.';\n",
              "          element.innerHTML = '';\n",
              "          dataTable['output_type'] = 'display_data';\n",
              "          await google.colab.output.renderOutput(dataTable, element);\n",
              "          const docLink = document.createElement('div');\n",
              "          docLink.innerHTML = docLinkHtml;\n",
              "          element.appendChild(docLink);\n",
              "        }\n",
              "      </script>\n",
              "    </div>\n",
              "  </div>\n",
              "  "
            ]
          },
          "metadata": {},
          "execution_count": 3
        }
      ]
    },
    {
      "cell_type": "code",
      "source": [
        "df.shape"
      ],
      "metadata": {
        "colab": {
          "base_uri": "https://localhost:8080/"
        },
        "id": "iKYLQ0semVcr",
        "outputId": "6cab1b23-903c-4afe-b469-efee8d2a71b1"
      },
      "execution_count": 4,
      "outputs": [
        {
          "output_type": "execute_result",
          "data": {
            "text/plain": [
              "(366, 22)"
            ]
          },
          "metadata": {},
          "execution_count": 4
        }
      ]
    },
    {
      "cell_type": "code",
      "source": [
        "df.columns"
      ],
      "metadata": {
        "colab": {
          "base_uri": "https://localhost:8080/"
        },
        "id": "eC-UHqe-mYay",
        "outputId": "15b84a7f-620f-4798-85c1-723d29c80721"
      },
      "execution_count": 6,
      "outputs": [
        {
          "output_type": "execute_result",
          "data": {
            "text/plain": [
              "Index(['MinTemp', 'MaxTemp', 'Rainfall', 'Evaporation', 'Sunshine',\n",
              "       'WindGustDir', 'WindGustSpeed', 'WindDir9am', 'WindDir3pm',\n",
              "       'WindSpeed9am', 'WindSpeed3pm', 'Humidity9am', 'Humidity3pm',\n",
              "       'Pressure9am', 'Pressure3pm', 'Cloud9am', 'Cloud3pm', 'Temp9am',\n",
              "       'Temp3pm', 'RainToday', 'RISK_MM', 'RainTomorrow'],\n",
              "      dtype='object')"
            ]
          },
          "metadata": {},
          "execution_count": 6
        }
      ]
    },
    {
      "cell_type": "code",
      "source": [
        "df.info"
      ],
      "metadata": {
        "colab": {
          "base_uri": "https://localhost:8080/"
        },
        "id": "b8oKhbhum2pd",
        "outputId": "ae5a51e3-c0a3-4db0-de2f-8b408a2d3608"
      },
      "execution_count": 7,
      "outputs": [
        {
          "output_type": "execute_result",
          "data": {
            "text/plain": [
              "<bound method DataFrame.info of      MinTemp  MaxTemp  Rainfall  Evaporation  Sunshine WindGustDir  \\\n",
              "0        8.0     24.3       0.0          3.4       6.3          NW   \n",
              "1       14.0     26.9       3.6          4.4       9.7         ENE   \n",
              "2       13.7     23.4       3.6          5.8       3.3          NW   \n",
              "3       13.3     15.5      39.8          7.2       9.1          NW   \n",
              "4        7.6     16.1       2.8          5.6      10.6         SSE   \n",
              "..       ...      ...       ...          ...       ...         ...   \n",
              "361      9.0     30.7       0.0          7.6      12.1         NNW   \n",
              "362      7.1     28.4       0.0         11.6      12.7           N   \n",
              "363     12.5     19.9       0.0          8.4       5.3         ESE   \n",
              "364     12.5     26.9       0.0          5.0       7.1          NW   \n",
              "365     12.3     30.2       0.0          6.0      12.6          NW   \n",
              "\n",
              "     WindGustSpeed WindDir9am WindDir3pm  WindSpeed9am  ...  Humidity3pm  \\\n",
              "0             30.0         SW         NW           6.0  ...           29   \n",
              "1             39.0          E          W           4.0  ...           36   \n",
              "2             85.0          N        NNE           6.0  ...           69   \n",
              "3             54.0        WNW          W          30.0  ...           56   \n",
              "4             50.0        SSE        ESE          20.0  ...           49   \n",
              "..             ...        ...        ...           ...  ...          ...   \n",
              "361           76.0        SSE         NW           7.0  ...           15   \n",
              "362           48.0        NNW        NNW           2.0  ...           22   \n",
              "363           43.0        ENE        ENE          11.0  ...           47   \n",
              "364           46.0        SSW        WNW           6.0  ...           39   \n",
              "365           78.0         NW        WNW          31.0  ...           13   \n",
              "\n",
              "     Pressure9am  Pressure3pm  Cloud9am  Cloud3pm  Temp9am  Temp3pm  \\\n",
              "0         1019.7       1015.0         7         7     14.4     23.6   \n",
              "1         1012.4       1008.4         5         3     17.5     25.7   \n",
              "2         1009.5       1007.2         8         7     15.4     20.2   \n",
              "3         1005.5       1007.0         2         7     13.5     14.1   \n",
              "4         1018.3       1018.5         7         7     11.1     15.4   \n",
              "..           ...          ...       ...       ...      ...      ...   \n",
              "361       1016.1       1010.8         1         3     20.4     30.0   \n",
              "362       1020.0       1016.9         0         1     17.2     28.2   \n",
              "363       1024.0       1022.8         3         2     14.5     18.3   \n",
              "364       1021.0       1016.2         6         7     15.8     25.9   \n",
              "365       1009.6       1009.2         1         1     23.8     28.6   \n",
              "\n",
              "     RainToday  RISK_MM RainTomorrow  \n",
              "0           No      3.6          Yes  \n",
              "1          Yes      3.6          Yes  \n",
              "2          Yes     39.8          Yes  \n",
              "3          Yes      2.8          Yes  \n",
              "4          Yes      0.0           No  \n",
              "..         ...      ...          ...  \n",
              "361         No      0.0           No  \n",
              "362         No      0.0           No  \n",
              "363         No      0.0           No  \n",
              "364         No      0.0           No  \n",
              "365         No      0.0           No  \n",
              "\n",
              "[366 rows x 22 columns]>"
            ]
          },
          "metadata": {},
          "execution_count": 7
        }
      ]
    },
    {
      "cell_type": "code",
      "source": [
        "df.describe()"
      ],
      "metadata": {
        "colab": {
          "base_uri": "https://localhost:8080/",
          "height": 364
        },
        "id": "czFMzMvSndrq",
        "outputId": "dc7f48a6-8fb0-4278-a26e-10fc5035b0b8"
      },
      "execution_count": 9,
      "outputs": [
        {
          "output_type": "execute_result",
          "data": {
            "text/plain": [
              "          MinTemp     MaxTemp    Rainfall  Evaporation    Sunshine  \\\n",
              "count  366.000000  366.000000  366.000000   366.000000  363.000000   \n",
              "mean     7.265574   20.550273    1.428415     4.521858    7.909366   \n",
              "std      6.025800    6.690516    4.225800     2.669383    3.481517   \n",
              "min     -5.300000    7.600000    0.000000     0.200000    0.000000   \n",
              "25%      2.300000   15.025000    0.000000     2.200000    5.950000   \n",
              "50%      7.450000   19.650000    0.000000     4.200000    8.600000   \n",
              "75%     12.500000   25.500000    0.200000     6.400000   10.500000   \n",
              "max     20.900000   35.800000   39.800000    13.800000   13.600000   \n",
              "\n",
              "       WindGustSpeed  WindSpeed9am  WindSpeed3pm  Humidity9am  Humidity3pm  \\\n",
              "count     364.000000    359.000000    366.000000   366.000000   366.000000   \n",
              "mean       39.840659      9.651811     17.986339    72.035519    44.519126   \n",
              "std        13.059807      7.951929      8.856997    13.137058    16.850947   \n",
              "min        13.000000      0.000000      0.000000    36.000000    13.000000   \n",
              "25%        31.000000      6.000000     11.000000    64.000000    32.250000   \n",
              "50%        39.000000      7.000000     17.000000    72.000000    43.000000   \n",
              "75%        46.000000     13.000000     24.000000    81.000000    55.000000   \n",
              "max        98.000000     41.000000     52.000000    99.000000    96.000000   \n",
              "\n",
              "       Pressure9am  Pressure3pm    Cloud9am    Cloud3pm     Temp9am  \\\n",
              "count   366.000000   366.000000  366.000000  366.000000  366.000000   \n",
              "mean   1019.709016  1016.810383    3.890710    4.024590   12.358470   \n",
              "std       6.686212     6.469422    2.956131    2.666268    5.630832   \n",
              "min     996.500000   996.800000    0.000000    0.000000    0.100000   \n",
              "25%    1015.350000  1012.800000    1.000000    1.000000    7.625000   \n",
              "50%    1020.150000  1017.400000    3.500000    4.000000   12.550000   \n",
              "75%    1024.475000  1021.475000    7.000000    7.000000   17.000000   \n",
              "max    1035.700000  1033.200000    8.000000    8.000000   24.700000   \n",
              "\n",
              "          Temp3pm     RISK_MM  \n",
              "count  366.000000  366.000000  \n",
              "mean    19.230874    1.428415  \n",
              "std      6.640346    4.225800  \n",
              "min      5.100000    0.000000  \n",
              "25%     14.150000    0.000000  \n",
              "50%     18.550000    0.000000  \n",
              "75%     24.000000    0.200000  \n",
              "max     34.500000   39.800000  "
            ],
            "text/html": [
              "\n",
              "  <div id=\"df-a6cb917d-259f-4ce4-b0ec-f8808a0e85cf\">\n",
              "    <div class=\"colab-df-container\">\n",
              "      <div>\n",
              "<style scoped>\n",
              "    .dataframe tbody tr th:only-of-type {\n",
              "        vertical-align: middle;\n",
              "    }\n",
              "\n",
              "    .dataframe tbody tr th {\n",
              "        vertical-align: top;\n",
              "    }\n",
              "\n",
              "    .dataframe thead th {\n",
              "        text-align: right;\n",
              "    }\n",
              "</style>\n",
              "<table border=\"1\" class=\"dataframe\">\n",
              "  <thead>\n",
              "    <tr style=\"text-align: right;\">\n",
              "      <th></th>\n",
              "      <th>MinTemp</th>\n",
              "      <th>MaxTemp</th>\n",
              "      <th>Rainfall</th>\n",
              "      <th>Evaporation</th>\n",
              "      <th>Sunshine</th>\n",
              "      <th>WindGustSpeed</th>\n",
              "      <th>WindSpeed9am</th>\n",
              "      <th>WindSpeed3pm</th>\n",
              "      <th>Humidity9am</th>\n",
              "      <th>Humidity3pm</th>\n",
              "      <th>Pressure9am</th>\n",
              "      <th>Pressure3pm</th>\n",
              "      <th>Cloud9am</th>\n",
              "      <th>Cloud3pm</th>\n",
              "      <th>Temp9am</th>\n",
              "      <th>Temp3pm</th>\n",
              "      <th>RISK_MM</th>\n",
              "    </tr>\n",
              "  </thead>\n",
              "  <tbody>\n",
              "    <tr>\n",
              "      <th>count</th>\n",
              "      <td>366.000000</td>\n",
              "      <td>366.000000</td>\n",
              "      <td>366.000000</td>\n",
              "      <td>366.000000</td>\n",
              "      <td>363.000000</td>\n",
              "      <td>364.000000</td>\n",
              "      <td>359.000000</td>\n",
              "      <td>366.000000</td>\n",
              "      <td>366.000000</td>\n",
              "      <td>366.000000</td>\n",
              "      <td>366.000000</td>\n",
              "      <td>366.000000</td>\n",
              "      <td>366.000000</td>\n",
              "      <td>366.000000</td>\n",
              "      <td>366.000000</td>\n",
              "      <td>366.000000</td>\n",
              "      <td>366.000000</td>\n",
              "    </tr>\n",
              "    <tr>\n",
              "      <th>mean</th>\n",
              "      <td>7.265574</td>\n",
              "      <td>20.550273</td>\n",
              "      <td>1.428415</td>\n",
              "      <td>4.521858</td>\n",
              "      <td>7.909366</td>\n",
              "      <td>39.840659</td>\n",
              "      <td>9.651811</td>\n",
              "      <td>17.986339</td>\n",
              "      <td>72.035519</td>\n",
              "      <td>44.519126</td>\n",
              "      <td>1019.709016</td>\n",
              "      <td>1016.810383</td>\n",
              "      <td>3.890710</td>\n",
              "      <td>4.024590</td>\n",
              "      <td>12.358470</td>\n",
              "      <td>19.230874</td>\n",
              "      <td>1.428415</td>\n",
              "    </tr>\n",
              "    <tr>\n",
              "      <th>std</th>\n",
              "      <td>6.025800</td>\n",
              "      <td>6.690516</td>\n",
              "      <td>4.225800</td>\n",
              "      <td>2.669383</td>\n",
              "      <td>3.481517</td>\n",
              "      <td>13.059807</td>\n",
              "      <td>7.951929</td>\n",
              "      <td>8.856997</td>\n",
              "      <td>13.137058</td>\n",
              "      <td>16.850947</td>\n",
              "      <td>6.686212</td>\n",
              "      <td>6.469422</td>\n",
              "      <td>2.956131</td>\n",
              "      <td>2.666268</td>\n",
              "      <td>5.630832</td>\n",
              "      <td>6.640346</td>\n",
              "      <td>4.225800</td>\n",
              "    </tr>\n",
              "    <tr>\n",
              "      <th>min</th>\n",
              "      <td>-5.300000</td>\n",
              "      <td>7.600000</td>\n",
              "      <td>0.000000</td>\n",
              "      <td>0.200000</td>\n",
              "      <td>0.000000</td>\n",
              "      <td>13.000000</td>\n",
              "      <td>0.000000</td>\n",
              "      <td>0.000000</td>\n",
              "      <td>36.000000</td>\n",
              "      <td>13.000000</td>\n",
              "      <td>996.500000</td>\n",
              "      <td>996.800000</td>\n",
              "      <td>0.000000</td>\n",
              "      <td>0.000000</td>\n",
              "      <td>0.100000</td>\n",
              "      <td>5.100000</td>\n",
              "      <td>0.000000</td>\n",
              "    </tr>\n",
              "    <tr>\n",
              "      <th>25%</th>\n",
              "      <td>2.300000</td>\n",
              "      <td>15.025000</td>\n",
              "      <td>0.000000</td>\n",
              "      <td>2.200000</td>\n",
              "      <td>5.950000</td>\n",
              "      <td>31.000000</td>\n",
              "      <td>6.000000</td>\n",
              "      <td>11.000000</td>\n",
              "      <td>64.000000</td>\n",
              "      <td>32.250000</td>\n",
              "      <td>1015.350000</td>\n",
              "      <td>1012.800000</td>\n",
              "      <td>1.000000</td>\n",
              "      <td>1.000000</td>\n",
              "      <td>7.625000</td>\n",
              "      <td>14.150000</td>\n",
              "      <td>0.000000</td>\n",
              "    </tr>\n",
              "    <tr>\n",
              "      <th>50%</th>\n",
              "      <td>7.450000</td>\n",
              "      <td>19.650000</td>\n",
              "      <td>0.000000</td>\n",
              "      <td>4.200000</td>\n",
              "      <td>8.600000</td>\n",
              "      <td>39.000000</td>\n",
              "      <td>7.000000</td>\n",
              "      <td>17.000000</td>\n",
              "      <td>72.000000</td>\n",
              "      <td>43.000000</td>\n",
              "      <td>1020.150000</td>\n",
              "      <td>1017.400000</td>\n",
              "      <td>3.500000</td>\n",
              "      <td>4.000000</td>\n",
              "      <td>12.550000</td>\n",
              "      <td>18.550000</td>\n",
              "      <td>0.000000</td>\n",
              "    </tr>\n",
              "    <tr>\n",
              "      <th>75%</th>\n",
              "      <td>12.500000</td>\n",
              "      <td>25.500000</td>\n",
              "      <td>0.200000</td>\n",
              "      <td>6.400000</td>\n",
              "      <td>10.500000</td>\n",
              "      <td>46.000000</td>\n",
              "      <td>13.000000</td>\n",
              "      <td>24.000000</td>\n",
              "      <td>81.000000</td>\n",
              "      <td>55.000000</td>\n",
              "      <td>1024.475000</td>\n",
              "      <td>1021.475000</td>\n",
              "      <td>7.000000</td>\n",
              "      <td>7.000000</td>\n",
              "      <td>17.000000</td>\n",
              "      <td>24.000000</td>\n",
              "      <td>0.200000</td>\n",
              "    </tr>\n",
              "    <tr>\n",
              "      <th>max</th>\n",
              "      <td>20.900000</td>\n",
              "      <td>35.800000</td>\n",
              "      <td>39.800000</td>\n",
              "      <td>13.800000</td>\n",
              "      <td>13.600000</td>\n",
              "      <td>98.000000</td>\n",
              "      <td>41.000000</td>\n",
              "      <td>52.000000</td>\n",
              "      <td>99.000000</td>\n",
              "      <td>96.000000</td>\n",
              "      <td>1035.700000</td>\n",
              "      <td>1033.200000</td>\n",
              "      <td>8.000000</td>\n",
              "      <td>8.000000</td>\n",
              "      <td>24.700000</td>\n",
              "      <td>34.500000</td>\n",
              "      <td>39.800000</td>\n",
              "    </tr>\n",
              "  </tbody>\n",
              "</table>\n",
              "</div>\n",
              "      <button class=\"colab-df-convert\" onclick=\"convertToInteractive('df-a6cb917d-259f-4ce4-b0ec-f8808a0e85cf')\"\n",
              "              title=\"Convert this dataframe to an interactive table.\"\n",
              "              style=\"display:none;\">\n",
              "        \n",
              "  <svg xmlns=\"http://www.w3.org/2000/svg\" height=\"24px\"viewBox=\"0 0 24 24\"\n",
              "       width=\"24px\">\n",
              "    <path d=\"M0 0h24v24H0V0z\" fill=\"none\"/>\n",
              "    <path d=\"M18.56 5.44l.94 2.06.94-2.06 2.06-.94-2.06-.94-.94-2.06-.94 2.06-2.06.94zm-11 1L8.5 8.5l.94-2.06 2.06-.94-2.06-.94L8.5 2.5l-.94 2.06-2.06.94zm10 10l.94 2.06.94-2.06 2.06-.94-2.06-.94-.94-2.06-.94 2.06-2.06.94z\"/><path d=\"M17.41 7.96l-1.37-1.37c-.4-.4-.92-.59-1.43-.59-.52 0-1.04.2-1.43.59L10.3 9.45l-7.72 7.72c-.78.78-.78 2.05 0 2.83L4 21.41c.39.39.9.59 1.41.59.51 0 1.02-.2 1.41-.59l7.78-7.78 2.81-2.81c.8-.78.8-2.07 0-2.86zM5.41 20L4 18.59l7.72-7.72 1.47 1.35L5.41 20z\"/>\n",
              "  </svg>\n",
              "      </button>\n",
              "      \n",
              "  <style>\n",
              "    .colab-df-container {\n",
              "      display:flex;\n",
              "      flex-wrap:wrap;\n",
              "      gap: 12px;\n",
              "    }\n",
              "\n",
              "    .colab-df-convert {\n",
              "      background-color: #E8F0FE;\n",
              "      border: none;\n",
              "      border-radius: 50%;\n",
              "      cursor: pointer;\n",
              "      display: none;\n",
              "      fill: #1967D2;\n",
              "      height: 32px;\n",
              "      padding: 0 0 0 0;\n",
              "      width: 32px;\n",
              "    }\n",
              "\n",
              "    .colab-df-convert:hover {\n",
              "      background-color: #E2EBFA;\n",
              "      box-shadow: 0px 1px 2px rgba(60, 64, 67, 0.3), 0px 1px 3px 1px rgba(60, 64, 67, 0.15);\n",
              "      fill: #174EA6;\n",
              "    }\n",
              "\n",
              "    [theme=dark] .colab-df-convert {\n",
              "      background-color: #3B4455;\n",
              "      fill: #D2E3FC;\n",
              "    }\n",
              "\n",
              "    [theme=dark] .colab-df-convert:hover {\n",
              "      background-color: #434B5C;\n",
              "      box-shadow: 0px 1px 3px 1px rgba(0, 0, 0, 0.15);\n",
              "      filter: drop-shadow(0px 1px 2px rgba(0, 0, 0, 0.3));\n",
              "      fill: #FFFFFF;\n",
              "    }\n",
              "  </style>\n",
              "\n",
              "      <script>\n",
              "        const buttonEl =\n",
              "          document.querySelector('#df-a6cb917d-259f-4ce4-b0ec-f8808a0e85cf button.colab-df-convert');\n",
              "        buttonEl.style.display =\n",
              "          google.colab.kernel.accessAllowed ? 'block' : 'none';\n",
              "\n",
              "        async function convertToInteractive(key) {\n",
              "          const element = document.querySelector('#df-a6cb917d-259f-4ce4-b0ec-f8808a0e85cf');\n",
              "          const dataTable =\n",
              "            await google.colab.kernel.invokeFunction('convertToInteractive',\n",
              "                                                     [key], {});\n",
              "          if (!dataTable) return;\n",
              "\n",
              "          const docLinkHtml = 'Like what you see? Visit the ' +\n",
              "            '<a target=\"_blank\" href=https://colab.research.google.com/notebooks/data_table.ipynb>data table notebook</a>'\n",
              "            + ' to learn more about interactive tables.';\n",
              "          element.innerHTML = '';\n",
              "          dataTable['output_type'] = 'display_data';\n",
              "          await google.colab.output.renderOutput(dataTable, element);\n",
              "          const docLink = document.createElement('div');\n",
              "          docLink.innerHTML = docLinkHtml;\n",
              "          element.appendChild(docLink);\n",
              "        }\n",
              "      </script>\n",
              "    </div>\n",
              "  </div>\n",
              "  "
            ]
          },
          "metadata": {},
          "execution_count": 9
        }
      ]
    },
    {
      "cell_type": "code",
      "source": [
        "df['WindGustDir'].value_counts()"
      ],
      "metadata": {
        "colab": {
          "base_uri": "https://localhost:8080/"
        },
        "id": "rv94bkKFpC4t",
        "outputId": "a35519d1-1582-4f1d-8b0b-c3e910d049eb"
      },
      "execution_count": 10,
      "outputs": [
        {
          "output_type": "execute_result",
          "data": {
            "text/plain": [
              "NW     73\n",
              "NNW    44\n",
              "E      37\n",
              "WNW    35\n",
              "ENE    30\n",
              "ESE    23\n",
              "S      22\n",
              "N      21\n",
              "W      20\n",
              "NE     16\n",
              "SSE    12\n",
              "SE     12\n",
              "NNE     8\n",
              "SSW     5\n",
              "SW      3\n",
              "WSW     2\n",
              "Name: WindGustDir, dtype: int64"
            ]
          },
          "metadata": {},
          "execution_count": 10
        }
      ]
    },
    {
      "cell_type": "code",
      "source": [
        "target = \"RainTomorrow\""
      ],
      "metadata": {
        "id": "aYKqLkYypurk"
      },
      "execution_count": 13,
      "outputs": []
    },
    {
      "cell_type": "code",
      "source": [
        "df[target].value_counts()"
      ],
      "metadata": {
        "colab": {
          "base_uri": "https://localhost:8080/"
        },
        "id": "EOvUW3ecqEjE",
        "outputId": "9d20ef30-cd75-474c-cec7-6235202278be"
      },
      "execution_count": 18,
      "outputs": [
        {
          "output_type": "execute_result",
          "data": {
            "text/plain": [
              "No     268\n",
              "Yes     60\n",
              "Name: RainTomorrow, dtype: int64"
            ]
          },
          "metadata": {},
          "execution_count": 18
        }
      ]
    },
    {
      "cell_type": "code",
      "source": [
        "df.dropna(axis = 0, how = 'any', inplace = True )\n",
        "df = df.reset_index(drop = True)"
      ],
      "metadata": {
        "id": "nWHGEdIQsJ1A"
      },
      "execution_count": 35,
      "outputs": []
    },
    {
      "cell_type": "code",
      "source": [
        "df.info()"
      ],
      "metadata": {
        "colab": {
          "base_uri": "https://localhost:8080/"
        },
        "id": "HyFmOasct7UO",
        "outputId": "fc2eec90-db34-4d16-9ea6-ba954af795ef"
      },
      "execution_count": 20,
      "outputs": [
        {
          "output_type": "stream",
          "name": "stdout",
          "text": [
            "<class 'pandas.core.frame.DataFrame'>\n",
            "Int64Index: 328 entries, 0 to 365\n",
            "Data columns (total 22 columns):\n",
            " #   Column         Non-Null Count  Dtype  \n",
            "---  ------         --------------  -----  \n",
            " 0   MinTemp        328 non-null    float64\n",
            " 1   MaxTemp        328 non-null    float64\n",
            " 2   Rainfall       328 non-null    float64\n",
            " 3   Evaporation    328 non-null    float64\n",
            " 4   Sunshine       328 non-null    float64\n",
            " 5   WindGustDir    328 non-null    object \n",
            " 6   WindGustSpeed  328 non-null    float64\n",
            " 7   WindDir9am     328 non-null    object \n",
            " 8   WindDir3pm     328 non-null    object \n",
            " 9   WindSpeed9am   328 non-null    float64\n",
            " 10  WindSpeed3pm   328 non-null    int64  \n",
            " 11  Humidity9am    328 non-null    int64  \n",
            " 12  Humidity3pm    328 non-null    int64  \n",
            " 13  Pressure9am    328 non-null    float64\n",
            " 14  Pressure3pm    328 non-null    float64\n",
            " 15  Cloud9am       328 non-null    int64  \n",
            " 16  Cloud3pm       328 non-null    int64  \n",
            " 17  Temp9am        328 non-null    float64\n",
            " 18  Temp3pm        328 non-null    float64\n",
            " 19  RainToday      328 non-null    object \n",
            " 20  RISK_MM        328 non-null    float64\n",
            " 21  RainTomorrow   328 non-null    object \n",
            "dtypes: float64(12), int64(5), object(5)\n",
            "memory usage: 58.9+ KB\n"
          ]
        }
      ]
    },
    {
      "cell_type": "code",
      "source": [
        "#Label Encoding\n",
        "WindGustDir\n",
        "WindDir9am\n",
        "WindDir3pm\n",
        "RainToday\n",
        "RainTomorrow"
      ],
      "metadata": {
        "colab": {
          "base_uri": "https://localhost:8080/",
          "height": 235
        },
        "id": "BMgqVImLt7Qw",
        "outputId": "2fe04be8-1546-4c83-8610-81ceb7b75c3c"
      },
      "execution_count": 21,
      "outputs": [
        {
          "output_type": "error",
          "ename": "NameError",
          "evalue": "ignored",
          "traceback": [
            "\u001b[0;31m---------------------------------------------------------------------------\u001b[0m",
            "\u001b[0;31mNameError\u001b[0m                                 Traceback (most recent call last)",
            "\u001b[0;32m<ipython-input-21-56aa557010f4>\u001b[0m in \u001b[0;36m<module>\u001b[0;34m\u001b[0m\n\u001b[1;32m      1\u001b[0m \u001b[0;31m#Label Encoding\u001b[0m\u001b[0;34m\u001b[0m\u001b[0;34m\u001b[0m\u001b[0m\n\u001b[0;32m----> 2\u001b[0;31m \u001b[0mWindGustDir\u001b[0m\u001b[0;34m\u001b[0m\u001b[0;34m\u001b[0m\u001b[0m\n\u001b[0m\u001b[1;32m      3\u001b[0m \u001b[0mWindDir9am\u001b[0m\u001b[0;34m\u001b[0m\u001b[0;34m\u001b[0m\u001b[0m\n\u001b[1;32m      4\u001b[0m \u001b[0mWindDir3pm\u001b[0m\u001b[0;34m\u001b[0m\u001b[0;34m\u001b[0m\u001b[0m\n\u001b[1;32m      5\u001b[0m \u001b[0mRainToday\u001b[0m\u001b[0;34m\u001b[0m\u001b[0;34m\u001b[0m\u001b[0m\n",
            "\u001b[0;31mNameError\u001b[0m: name 'WindGustDir' is not defined"
          ]
        }
      ]
    },
    {
      "cell_type": "code",
      "source": [
        "from sklearn.preprocessing import LabelEncoder\n",
        "encoder = LabelEncoder()"
      ],
      "metadata": {
        "id": "PFg9J8gLt7N9"
      },
      "execution_count": 27,
      "outputs": []
    },
    {
      "cell_type": "code",
      "source": [
        "df['WindGustDir'] = encoder.fit_transform(df['WindGustDir'])"
      ],
      "metadata": {
        "id": "RXPWarimt7Kj"
      },
      "execution_count": 29,
      "outputs": []
    },
    {
      "cell_type": "code",
      "source": [
        "df['WindGustDir'].value_counts()"
      ],
      "metadata": {
        "colab": {
          "base_uri": "https://localhost:8080/"
        },
        "id": "5y7B25dCt652",
        "outputId": "6458e1c1-9b3b-4ff7-e01f-cadd0accbadb"
      },
      "execution_count": 25,
      "outputs": [
        {
          "output_type": "execute_result",
          "data": {
            "text/plain": [
              "NW     64\n",
              "NNW    35\n",
              "E      34\n",
              "WNW    32\n",
              "ENE    29\n",
              "ESE    23\n",
              "S      21\n",
              "N      21\n",
              "NE     15\n",
              "W      15\n",
              "SSE    12\n",
              "SE     11\n",
              "NNE     7\n",
              "SSW     4\n",
              "SW      3\n",
              "WSW     2\n",
              "Name: WindGustDir, dtype: int64"
            ]
          },
          "metadata": {},
          "execution_count": 25
        }
      ]
    },
    {
      "cell_type": "code",
      "source": [
        "df[\"WindDir9am\"] = encoder.fit_transform(df[\"WindDir9am\"])\n",
        "df[\"WindDir3pm\"] = encoder.fit_transform(df[\"WindDir3pm\"])\n",
        "df[\"RainToday\"] = encoder.fit_transform(df[\"RainToday\"])"
      ],
      "metadata": {
        "id": "tYkOYLpXw9Yw"
      },
      "execution_count": 30,
      "outputs": []
    },
    {
      "cell_type": "code",
      "source": [
        "df[target].value_counts()"
      ],
      "metadata": {
        "colab": {
          "base_uri": "https://localhost:8080/"
        },
        "id": "75BpWIiIxEtb",
        "outputId": "fde9d911-5c6f-444a-c67f-c8a8439e82da"
      },
      "execution_count": 31,
      "outputs": [
        {
          "output_type": "execute_result",
          "data": {
            "text/plain": [
              "No     268\n",
              "Yes     60\n",
              "Name: RainTomorrow, dtype: int64"
            ]
          },
          "metadata": {},
          "execution_count": 31
        }
      ]
    },
    {
      "cell_type": "code",
      "source": [
        "df[target] = encoder.fit_transform(df[target])"
      ],
      "metadata": {
        "id": "ZM_zTxbpxUFM"
      },
      "execution_count": 32,
      "outputs": []
    },
    {
      "cell_type": "code",
      "source": [
        "df[target].value_counts()"
      ],
      "metadata": {
        "colab": {
          "base_uri": "https://localhost:8080/"
        },
        "id": "bKpgJkPuxdbB",
        "outputId": "98d75907-0abc-4277-8987-6809e51613f2"
      },
      "execution_count": 33,
      "outputs": [
        {
          "output_type": "execute_result",
          "data": {
            "text/plain": [
              "0    268\n",
              "1     60\n",
              "Name: RainTomorrow, dtype: int64"
            ]
          },
          "metadata": {},
          "execution_count": 33
        }
      ]
    },
    {
      "cell_type": "code",
      "source": [
        "df.info()"
      ],
      "metadata": {
        "colab": {
          "base_uri": "https://localhost:8080/"
        },
        "id": "g-AhqPBtxmmB",
        "outputId": "e6ba75a4-da8e-4e21-962a-cb9a2b67cc68"
      },
      "execution_count": 34,
      "outputs": [
        {
          "output_type": "stream",
          "name": "stdout",
          "text": [
            "<class 'pandas.core.frame.DataFrame'>\n",
            "Int64Index: 328 entries, 0 to 365\n",
            "Data columns (total 22 columns):\n",
            " #   Column         Non-Null Count  Dtype  \n",
            "---  ------         --------------  -----  \n",
            " 0   MinTemp        328 non-null    float64\n",
            " 1   MaxTemp        328 non-null    float64\n",
            " 2   Rainfall       328 non-null    float64\n",
            " 3   Evaporation    328 non-null    float64\n",
            " 4   Sunshine       328 non-null    float64\n",
            " 5   WindGustDir    328 non-null    int64  \n",
            " 6   WindGustSpeed  328 non-null    float64\n",
            " 7   WindDir9am     328 non-null    int64  \n",
            " 8   WindDir3pm     328 non-null    int64  \n",
            " 9   WindSpeed9am   328 non-null    float64\n",
            " 10  WindSpeed3pm   328 non-null    int64  \n",
            " 11  Humidity9am    328 non-null    int64  \n",
            " 12  Humidity3pm    328 non-null    int64  \n",
            " 13  Pressure9am    328 non-null    float64\n",
            " 14  Pressure3pm    328 non-null    float64\n",
            " 15  Cloud9am       328 non-null    int64  \n",
            " 16  Cloud3pm       328 non-null    int64  \n",
            " 17  Temp9am        328 non-null    float64\n",
            " 18  Temp3pm        328 non-null    float64\n",
            " 19  RainToday      328 non-null    int64  \n",
            " 20  RISK_MM        328 non-null    float64\n",
            " 21  RainTomorrow   328 non-null    int64  \n",
            "dtypes: float64(12), int64(10)\n",
            "memory usage: 58.9 KB\n"
          ]
        }
      ]
    }
  ]
}