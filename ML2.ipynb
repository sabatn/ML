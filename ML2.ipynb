{
  "nbformat": 4,
  "nbformat_minor": 0,
  "metadata": {
    "colab": {
      "provenance": []
    },
    "kernelspec": {
      "name": "python3",
      "display_name": "Python 3"
    },
    "language_info": {
      "name": "python"
    }
  },
  "cells": [
    {
      "cell_type": "code",
      "source": [
        "from google.colab import drive\n",
        "drive.mount('/content/drive')"
      ],
      "metadata": {
        "id": "ujnd-AB7w3Mn",
        "outputId": "06e36ddc-41f1-4776-8a13-954ff117c06a",
        "colab": {
          "base_uri": "https://localhost:8080/"
        }
      },
      "execution_count": 280,
      "outputs": [
        {
          "output_type": "stream",
          "name": "stdout",
          "text": [
            "Drive already mounted at /content/drive; to attempt to forcibly remount, call drive.mount(\"/content/drive\", force_remount=True).\n"
          ]
        }
      ]
    },
    {
      "cell_type": "code",
      "execution_count": 281,
      "metadata": {
        "id": "QM8IWZl3kARm"
      },
      "outputs": [],
      "source": [
        "import numpy as np\n",
        "import pandas as pd\n"
      ]
    },
    {
      "cell_type": "code",
      "source": [
        "df = pd.read_csv(\"/content/drive/MyDrive/ML Dataset/EEG_HMC_Wake_NREM_REM_3000.csv\")"
      ],
      "metadata": {
        "id": "9INa3ckplV9N"
      },
      "execution_count": 282,
      "outputs": []
    },
    {
      "cell_type": "code",
      "source": [
        "target = \"Sleep Stage\""
      ],
      "metadata": {
        "id": "aYKqLkYypurk"
      },
      "execution_count": 283,
      "outputs": []
    },
    {
      "cell_type": "code",
      "source": [
        "df.head(10)"
      ],
      "metadata": {
        "colab": {
          "base_uri": "https://localhost:8080/",
          "height": 473
        },
        "id": "H7VkIjKRlW3Z",
        "outputId": "c8769191-2999-4940-9829-df680a71ee1c"
      },
      "execution_count": 284,
      "outputs": [
        {
          "output_type": "execute_result",
          "data": {
            "text/plain": [
              "  Sleep Stage  MeanP_Alpha_F4  MedianF_Alpha_F4  MeanF_Alpha_F4  \\\n",
              "0        Wake         0.00051           8.74146        18.48195   \n",
              "1        Wake         0.00040          10.24000        17.48293   \n",
              "2        Wake         0.00036           9.74049        17.98244   \n",
              "3        Wake         0.00035          10.11512        17.60780   \n",
              "4        Wake         0.00033           9.74049        17.60780   \n",
              "5        Wake         0.00036          10.24000        16.98341   \n",
              "6        NREM         0.00034          10.11512        17.85756   \n",
              "7        NREM         0.00035          10.73951        17.60780   \n",
              "8        NREM         0.00035           9.36585        17.60780   \n",
              "9        NREM         0.00050          10.36488        16.60878   \n",
              "\n",
              "   Spectral Edge_Alpha_F4  PeakF_Alpha_F4  MeanP_Beta_F4  MedianF_Beta_F4  \\\n",
              "0                17.48293         8.24195        0.00071         19.73073   \n",
              "1                16.85854        10.61463        0.00051         17.23317   \n",
              "2                17.48293         8.74146        0.00047         17.60780   \n",
              "3                17.10829         9.61561        0.00047         17.35805   \n",
              "4                17.23317         8.11707        0.00043         17.23317   \n",
              "5                16.35902        10.11512        0.00043         16.35902   \n",
              "6                17.48293        10.24000        0.00047         17.73268   \n",
              "7                17.10829         9.11610        0.00048         16.85854   \n",
              "8                16.98341         9.24098        0.00042         17.35805   \n",
              "9                15.85951         7.99220        0.00053         15.48488   \n",
              "\n",
              "   MeanF_Beta_F4  Spectral Edge_Beta_F4  ...  MeanP_Delta_O2  \\\n",
              "0       29.84585               33.84195  ...         0.00724   \n",
              "1       26.34927               29.34634  ...         0.00723   \n",
              "2       25.47512               28.22244  ...         0.00230   \n",
              "3       26.47415               28.72195  ...         0.00091   \n",
              "4       25.84976               28.09756  ...         0.00175   \n",
              "5       25.22537               27.09854  ...         0.00066   \n",
              "6       25.35024               27.47317  ...         0.00112   \n",
              "7       25.22537               26.97366  ...         0.00070   \n",
              "8       26.09951               28.47220  ...         0.00077   \n",
              "9       24.10146               25.72488  ...         0.00130   \n",
              "\n",
              "   MedianF_Delta_O2  MeanF_Delta_O2  Spectral Edge_Delta_O2  PeakF_Delta_O2  \\\n",
              "0           0.74927         3.87122                 1.99805         0.87415   \n",
              "1           0.49951         3.74634                 1.24878         0.49951   \n",
              "2           0.62439         5.24488                 2.12293         0.62439   \n",
              "3           0.87415         6.61854                 3.12195         0.62439   \n",
              "4           0.49951         5.74439                 2.24780         0.49951   \n",
              "5           1.12390         7.74244                 3.49659         0.74927   \n",
              "6           0.74927         6.36878                 2.87220         0.62439   \n",
              "7           0.99902         6.86829                 3.62146         0.74927   \n",
              "8           1.49854         6.49366                 4.12098         0.74927   \n",
              "9           1.87317         6.11902                 3.74634         0.37463   \n",
              "\n",
              "   MeanP_Gamma_O2  MedianF_Gamma_O2  MeanF_Gamma_O2  Spectral Edge_Gamma_O2  \\\n",
              "0        0.000210          35.21561        42.20878                49.95122   \n",
              "1        0.000095          34.34146        43.33268                49.95122   \n",
              "2        0.000074          34.59122        45.95512                49.95122   \n",
              "3        0.000082          32.46829        43.95707                49.95122   \n",
              "4        0.000077          33.59220        44.83122                49.95122   \n",
              "5        0.000065          33.34244        45.95512                49.95122   \n",
              "6        0.000076          32.71805        43.83220                49.95122   \n",
              "7        0.000072          32.09366        44.33171                49.95122   \n",
              "8        0.000069          33.09268        43.95707                49.95122   \n",
              "9        0.000070          31.59415        42.83317                49.95122   \n",
              "\n",
              "   PeakF_Gamma_O2  \n",
              "0        49.95122  \n",
              "1        49.95122  \n",
              "2        49.95122  \n",
              "3        49.95122  \n",
              "4        49.95122  \n",
              "5        49.95122  \n",
              "6        49.95122  \n",
              "7        49.95122  \n",
              "8        49.95122  \n",
              "9        49.95122  \n",
              "\n",
              "[10 rows x 76 columns]"
            ],
            "text/html": [
              "\n",
              "  <div id=\"df-1b8ace29-70f8-4557-b544-9028a7464124\">\n",
              "    <div class=\"colab-df-container\">\n",
              "      <div>\n",
              "<style scoped>\n",
              "    .dataframe tbody tr th:only-of-type {\n",
              "        vertical-align: middle;\n",
              "    }\n",
              "\n",
              "    .dataframe tbody tr th {\n",
              "        vertical-align: top;\n",
              "    }\n",
              "\n",
              "    .dataframe thead th {\n",
              "        text-align: right;\n",
              "    }\n",
              "</style>\n",
              "<table border=\"1\" class=\"dataframe\">\n",
              "  <thead>\n",
              "    <tr style=\"text-align: right;\">\n",
              "      <th></th>\n",
              "      <th>Sleep Stage</th>\n",
              "      <th>MeanP_Alpha_F4</th>\n",
              "      <th>MedianF_Alpha_F4</th>\n",
              "      <th>MeanF_Alpha_F4</th>\n",
              "      <th>Spectral Edge_Alpha_F4</th>\n",
              "      <th>PeakF_Alpha_F4</th>\n",
              "      <th>MeanP_Beta_F4</th>\n",
              "      <th>MedianF_Beta_F4</th>\n",
              "      <th>MeanF_Beta_F4</th>\n",
              "      <th>Spectral Edge_Beta_F4</th>\n",
              "      <th>...</th>\n",
              "      <th>MeanP_Delta_O2</th>\n",
              "      <th>MedianF_Delta_O2</th>\n",
              "      <th>MeanF_Delta_O2</th>\n",
              "      <th>Spectral Edge_Delta_O2</th>\n",
              "      <th>PeakF_Delta_O2</th>\n",
              "      <th>MeanP_Gamma_O2</th>\n",
              "      <th>MedianF_Gamma_O2</th>\n",
              "      <th>MeanF_Gamma_O2</th>\n",
              "      <th>Spectral Edge_Gamma_O2</th>\n",
              "      <th>PeakF_Gamma_O2</th>\n",
              "    </tr>\n",
              "  </thead>\n",
              "  <tbody>\n",
              "    <tr>\n",
              "      <th>0</th>\n",
              "      <td>Wake</td>\n",
              "      <td>0.00051</td>\n",
              "      <td>8.74146</td>\n",
              "      <td>18.48195</td>\n",
              "      <td>17.48293</td>\n",
              "      <td>8.24195</td>\n",
              "      <td>0.00071</td>\n",
              "      <td>19.73073</td>\n",
              "      <td>29.84585</td>\n",
              "      <td>33.84195</td>\n",
              "      <td>...</td>\n",
              "      <td>0.00724</td>\n",
              "      <td>0.74927</td>\n",
              "      <td>3.87122</td>\n",
              "      <td>1.99805</td>\n",
              "      <td>0.87415</td>\n",
              "      <td>0.000210</td>\n",
              "      <td>35.21561</td>\n",
              "      <td>42.20878</td>\n",
              "      <td>49.95122</td>\n",
              "      <td>49.95122</td>\n",
              "    </tr>\n",
              "    <tr>\n",
              "      <th>1</th>\n",
              "      <td>Wake</td>\n",
              "      <td>0.00040</td>\n",
              "      <td>10.24000</td>\n",
              "      <td>17.48293</td>\n",
              "      <td>16.85854</td>\n",
              "      <td>10.61463</td>\n",
              "      <td>0.00051</td>\n",
              "      <td>17.23317</td>\n",
              "      <td>26.34927</td>\n",
              "      <td>29.34634</td>\n",
              "      <td>...</td>\n",
              "      <td>0.00723</td>\n",
              "      <td>0.49951</td>\n",
              "      <td>3.74634</td>\n",
              "      <td>1.24878</td>\n",
              "      <td>0.49951</td>\n",
              "      <td>0.000095</td>\n",
              "      <td>34.34146</td>\n",
              "      <td>43.33268</td>\n",
              "      <td>49.95122</td>\n",
              "      <td>49.95122</td>\n",
              "    </tr>\n",
              "    <tr>\n",
              "      <th>2</th>\n",
              "      <td>Wake</td>\n",
              "      <td>0.00036</td>\n",
              "      <td>9.74049</td>\n",
              "      <td>17.98244</td>\n",
              "      <td>17.48293</td>\n",
              "      <td>8.74146</td>\n",
              "      <td>0.00047</td>\n",
              "      <td>17.60780</td>\n",
              "      <td>25.47512</td>\n",
              "      <td>28.22244</td>\n",
              "      <td>...</td>\n",
              "      <td>0.00230</td>\n",
              "      <td>0.62439</td>\n",
              "      <td>5.24488</td>\n",
              "      <td>2.12293</td>\n",
              "      <td>0.62439</td>\n",
              "      <td>0.000074</td>\n",
              "      <td>34.59122</td>\n",
              "      <td>45.95512</td>\n",
              "      <td>49.95122</td>\n",
              "      <td>49.95122</td>\n",
              "    </tr>\n",
              "    <tr>\n",
              "      <th>3</th>\n",
              "      <td>Wake</td>\n",
              "      <td>0.00035</td>\n",
              "      <td>10.11512</td>\n",
              "      <td>17.60780</td>\n",
              "      <td>17.10829</td>\n",
              "      <td>9.61561</td>\n",
              "      <td>0.00047</td>\n",
              "      <td>17.35805</td>\n",
              "      <td>26.47415</td>\n",
              "      <td>28.72195</td>\n",
              "      <td>...</td>\n",
              "      <td>0.00091</td>\n",
              "      <td>0.87415</td>\n",
              "      <td>6.61854</td>\n",
              "      <td>3.12195</td>\n",
              "      <td>0.62439</td>\n",
              "      <td>0.000082</td>\n",
              "      <td>32.46829</td>\n",
              "      <td>43.95707</td>\n",
              "      <td>49.95122</td>\n",
              "      <td>49.95122</td>\n",
              "    </tr>\n",
              "    <tr>\n",
              "      <th>4</th>\n",
              "      <td>Wake</td>\n",
              "      <td>0.00033</td>\n",
              "      <td>9.74049</td>\n",
              "      <td>17.60780</td>\n",
              "      <td>17.23317</td>\n",
              "      <td>8.11707</td>\n",
              "      <td>0.00043</td>\n",
              "      <td>17.23317</td>\n",
              "      <td>25.84976</td>\n",
              "      <td>28.09756</td>\n",
              "      <td>...</td>\n",
              "      <td>0.00175</td>\n",
              "      <td>0.49951</td>\n",
              "      <td>5.74439</td>\n",
              "      <td>2.24780</td>\n",
              "      <td>0.49951</td>\n",
              "      <td>0.000077</td>\n",
              "      <td>33.59220</td>\n",
              "      <td>44.83122</td>\n",
              "      <td>49.95122</td>\n",
              "      <td>49.95122</td>\n",
              "    </tr>\n",
              "    <tr>\n",
              "      <th>5</th>\n",
              "      <td>Wake</td>\n",
              "      <td>0.00036</td>\n",
              "      <td>10.24000</td>\n",
              "      <td>16.98341</td>\n",
              "      <td>16.35902</td>\n",
              "      <td>10.11512</td>\n",
              "      <td>0.00043</td>\n",
              "      <td>16.35902</td>\n",
              "      <td>25.22537</td>\n",
              "      <td>27.09854</td>\n",
              "      <td>...</td>\n",
              "      <td>0.00066</td>\n",
              "      <td>1.12390</td>\n",
              "      <td>7.74244</td>\n",
              "      <td>3.49659</td>\n",
              "      <td>0.74927</td>\n",
              "      <td>0.000065</td>\n",
              "      <td>33.34244</td>\n",
              "      <td>45.95512</td>\n",
              "      <td>49.95122</td>\n",
              "      <td>49.95122</td>\n",
              "    </tr>\n",
              "    <tr>\n",
              "      <th>6</th>\n",
              "      <td>NREM</td>\n",
              "      <td>0.00034</td>\n",
              "      <td>10.11512</td>\n",
              "      <td>17.85756</td>\n",
              "      <td>17.48293</td>\n",
              "      <td>10.24000</td>\n",
              "      <td>0.00047</td>\n",
              "      <td>17.73268</td>\n",
              "      <td>25.35024</td>\n",
              "      <td>27.47317</td>\n",
              "      <td>...</td>\n",
              "      <td>0.00112</td>\n",
              "      <td>0.74927</td>\n",
              "      <td>6.36878</td>\n",
              "      <td>2.87220</td>\n",
              "      <td>0.62439</td>\n",
              "      <td>0.000076</td>\n",
              "      <td>32.71805</td>\n",
              "      <td>43.83220</td>\n",
              "      <td>49.95122</td>\n",
              "      <td>49.95122</td>\n",
              "    </tr>\n",
              "    <tr>\n",
              "      <th>7</th>\n",
              "      <td>NREM</td>\n",
              "      <td>0.00035</td>\n",
              "      <td>10.73951</td>\n",
              "      <td>17.60780</td>\n",
              "      <td>17.10829</td>\n",
              "      <td>9.11610</td>\n",
              "      <td>0.00048</td>\n",
              "      <td>16.85854</td>\n",
              "      <td>25.22537</td>\n",
              "      <td>26.97366</td>\n",
              "      <td>...</td>\n",
              "      <td>0.00070</td>\n",
              "      <td>0.99902</td>\n",
              "      <td>6.86829</td>\n",
              "      <td>3.62146</td>\n",
              "      <td>0.74927</td>\n",
              "      <td>0.000072</td>\n",
              "      <td>32.09366</td>\n",
              "      <td>44.33171</td>\n",
              "      <td>49.95122</td>\n",
              "      <td>49.95122</td>\n",
              "    </tr>\n",
              "    <tr>\n",
              "      <th>8</th>\n",
              "      <td>NREM</td>\n",
              "      <td>0.00035</td>\n",
              "      <td>9.36585</td>\n",
              "      <td>17.60780</td>\n",
              "      <td>16.98341</td>\n",
              "      <td>9.24098</td>\n",
              "      <td>0.00042</td>\n",
              "      <td>17.35805</td>\n",
              "      <td>26.09951</td>\n",
              "      <td>28.47220</td>\n",
              "      <td>...</td>\n",
              "      <td>0.00077</td>\n",
              "      <td>1.49854</td>\n",
              "      <td>6.49366</td>\n",
              "      <td>4.12098</td>\n",
              "      <td>0.74927</td>\n",
              "      <td>0.000069</td>\n",
              "      <td>33.09268</td>\n",
              "      <td>43.95707</td>\n",
              "      <td>49.95122</td>\n",
              "      <td>49.95122</td>\n",
              "    </tr>\n",
              "    <tr>\n",
              "      <th>9</th>\n",
              "      <td>NREM</td>\n",
              "      <td>0.00050</td>\n",
              "      <td>10.36488</td>\n",
              "      <td>16.60878</td>\n",
              "      <td>15.85951</td>\n",
              "      <td>7.99220</td>\n",
              "      <td>0.00053</td>\n",
              "      <td>15.48488</td>\n",
              "      <td>24.10146</td>\n",
              "      <td>25.72488</td>\n",
              "      <td>...</td>\n",
              "      <td>0.00130</td>\n",
              "      <td>1.87317</td>\n",
              "      <td>6.11902</td>\n",
              "      <td>3.74634</td>\n",
              "      <td>0.37463</td>\n",
              "      <td>0.000070</td>\n",
              "      <td>31.59415</td>\n",
              "      <td>42.83317</td>\n",
              "      <td>49.95122</td>\n",
              "      <td>49.95122</td>\n",
              "    </tr>\n",
              "  </tbody>\n",
              "</table>\n",
              "<p>10 rows × 76 columns</p>\n",
              "</div>\n",
              "      <button class=\"colab-df-convert\" onclick=\"convertToInteractive('df-1b8ace29-70f8-4557-b544-9028a7464124')\"\n",
              "              title=\"Convert this dataframe to an interactive table.\"\n",
              "              style=\"display:none;\">\n",
              "        \n",
              "  <svg xmlns=\"http://www.w3.org/2000/svg\" height=\"24px\"viewBox=\"0 0 24 24\"\n",
              "       width=\"24px\">\n",
              "    <path d=\"M0 0h24v24H0V0z\" fill=\"none\"/>\n",
              "    <path d=\"M18.56 5.44l.94 2.06.94-2.06 2.06-.94-2.06-.94-.94-2.06-.94 2.06-2.06.94zm-11 1L8.5 8.5l.94-2.06 2.06-.94-2.06-.94L8.5 2.5l-.94 2.06-2.06.94zm10 10l.94 2.06.94-2.06 2.06-.94-2.06-.94-.94-2.06-.94 2.06-2.06.94z\"/><path d=\"M17.41 7.96l-1.37-1.37c-.4-.4-.92-.59-1.43-.59-.52 0-1.04.2-1.43.59L10.3 9.45l-7.72 7.72c-.78.78-.78 2.05 0 2.83L4 21.41c.39.39.9.59 1.41.59.51 0 1.02-.2 1.41-.59l7.78-7.78 2.81-2.81c.8-.78.8-2.07 0-2.86zM5.41 20L4 18.59l7.72-7.72 1.47 1.35L5.41 20z\"/>\n",
              "  </svg>\n",
              "      </button>\n",
              "      \n",
              "  <style>\n",
              "    .colab-df-container {\n",
              "      display:flex;\n",
              "      flex-wrap:wrap;\n",
              "      gap: 12px;\n",
              "    }\n",
              "\n",
              "    .colab-df-convert {\n",
              "      background-color: #E8F0FE;\n",
              "      border: none;\n",
              "      border-radius: 50%;\n",
              "      cursor: pointer;\n",
              "      display: none;\n",
              "      fill: #1967D2;\n",
              "      height: 32px;\n",
              "      padding: 0 0 0 0;\n",
              "      width: 32px;\n",
              "    }\n",
              "\n",
              "    .colab-df-convert:hover {\n",
              "      background-color: #E2EBFA;\n",
              "      box-shadow: 0px 1px 2px rgba(60, 64, 67, 0.3), 0px 1px 3px 1px rgba(60, 64, 67, 0.15);\n",
              "      fill: #174EA6;\n",
              "    }\n",
              "\n",
              "    [theme=dark] .colab-df-convert {\n",
              "      background-color: #3B4455;\n",
              "      fill: #D2E3FC;\n",
              "    }\n",
              "\n",
              "    [theme=dark] .colab-df-convert:hover {\n",
              "      background-color: #434B5C;\n",
              "      box-shadow: 0px 1px 3px 1px rgba(0, 0, 0, 0.15);\n",
              "      filter: drop-shadow(0px 1px 2px rgba(0, 0, 0, 0.3));\n",
              "      fill: #FFFFFF;\n",
              "    }\n",
              "  </style>\n",
              "\n",
              "      <script>\n",
              "        const buttonEl =\n",
              "          document.querySelector('#df-1b8ace29-70f8-4557-b544-9028a7464124 button.colab-df-convert');\n",
              "        buttonEl.style.display =\n",
              "          google.colab.kernel.accessAllowed ? 'block' : 'none';\n",
              "\n",
              "        async function convertToInteractive(key) {\n",
              "          const element = document.querySelector('#df-1b8ace29-70f8-4557-b544-9028a7464124');\n",
              "          const dataTable =\n",
              "            await google.colab.kernel.invokeFunction('convertToInteractive',\n",
              "                                                     [key], {});\n",
              "          if (!dataTable) return;\n",
              "\n",
              "          const docLinkHtml = 'Like what you see? Visit the ' +\n",
              "            '<a target=\"_blank\" href=https://colab.research.google.com/notebooks/data_table.ipynb>data table notebook</a>'\n",
              "            + ' to learn more about interactive tables.';\n",
              "          element.innerHTML = '';\n",
              "          dataTable['output_type'] = 'display_data';\n",
              "          await google.colab.output.renderOutput(dataTable, element);\n",
              "          const docLink = document.createElement('div');\n",
              "          docLink.innerHTML = docLinkHtml;\n",
              "          element.appendChild(docLink);\n",
              "        }\n",
              "      </script>\n",
              "    </div>\n",
              "  </div>\n",
              "  "
            ]
          },
          "metadata": {},
          "execution_count": 284
        }
      ]
    },
    {
      "cell_type": "code",
      "source": [
        "df.shape"
      ],
      "metadata": {
        "colab": {
          "base_uri": "https://localhost:8080/"
        },
        "id": "iKYLQ0semVcr",
        "outputId": "ec61fc83-64e1-4023-c7ca-8a17efc501a5"
      },
      "execution_count": 285,
      "outputs": [
        {
          "output_type": "execute_result",
          "data": {
            "text/plain": [
              "(3000, 76)"
            ]
          },
          "metadata": {},
          "execution_count": 285
        }
      ]
    },
    {
      "cell_type": "code",
      "source": [
        "list(df.columns)"
      ],
      "metadata": {
        "colab": {
          "base_uri": "https://localhost:8080/"
        },
        "id": "eC-UHqe-mYay",
        "outputId": "97804736-4935-488b-e813-0c56a12aeba0"
      },
      "execution_count": 286,
      "outputs": [
        {
          "output_type": "execute_result",
          "data": {
            "text/plain": [
              "['Sleep Stage',\n",
              " 'MeanP_Alpha_F4',\n",
              " 'MedianF_Alpha_F4',\n",
              " 'MeanF_Alpha_F4',\n",
              " 'Spectral Edge_Alpha_F4',\n",
              " 'PeakF_Alpha_F4',\n",
              " 'MeanP_Beta_F4',\n",
              " 'MedianF_Beta_F4',\n",
              " 'MeanF_Beta_F4',\n",
              " 'Spectral Edge_Beta_F4',\n",
              " 'PeakF_Beta_F4',\n",
              " 'MeanP_Theta_F4',\n",
              " 'MedianF_Theta_F4',\n",
              " 'MeanF_Theta_F4',\n",
              " 'Spectral Edge_Theta_F4',\n",
              " 'PeakF_Theta_F4',\n",
              " 'MeanP_Delta_F4',\n",
              " 'MedianF_Delta_F4',\n",
              " 'MeanF_Delta_F4',\n",
              " 'Spectral Edge_Delta_F4',\n",
              " 'PeakF_Delta_F4',\n",
              " 'MeanP_Gamma_F4',\n",
              " 'MedianF_Gamma_F4',\n",
              " 'MeanF_Gamma_F4',\n",
              " 'Spectral Edge_Gamma_F4',\n",
              " 'PeakF_Gamma_F4',\n",
              " 'MeanP_Alpha_C4',\n",
              " 'MedianF_Alpha_C4',\n",
              " 'MeanF_Alpha_C4',\n",
              " 'Spectral Edge_Alpha_C4',\n",
              " 'PeakF_Alpha_C4',\n",
              " 'MeanP_Beta_C4',\n",
              " 'MedianF_Beta_C4',\n",
              " 'MeanF_Beta_C4',\n",
              " 'Spectral Edge_Beta_C4',\n",
              " 'PeakF_Beta_C4',\n",
              " 'MeanP_Theta_C4',\n",
              " 'MedianF_Theta_C4',\n",
              " 'MeanF_Theta_C4',\n",
              " 'Spectral Edge_Theta_C4',\n",
              " 'PeakF_Theta_C4',\n",
              " 'MeanP_Delta_C4',\n",
              " 'MedianF_Delta_C4',\n",
              " 'MeanF_Delta_C4',\n",
              " 'Spectral Edge_Delta_C4',\n",
              " 'PeakF_Delta_C4',\n",
              " 'MeanP_Gamma_C4',\n",
              " 'MedianF_Gamma_C4',\n",
              " 'MeanF_Gamma_C4',\n",
              " 'Spectral Edge_Gamma_C4',\n",
              " 'PeakF_Gamma_C4',\n",
              " 'MeanP_Alpha_O2',\n",
              " 'MedianF_Alpha_O2',\n",
              " 'MeanF_Alpha_O2',\n",
              " 'Spectral Edge_Alpha_O2',\n",
              " 'PeakF_Alpha_O2',\n",
              " 'MeanP_Beta_O2',\n",
              " 'MedianF_Beta_O2',\n",
              " 'MeanF_Beta_O2',\n",
              " 'Spectral Edge_Beta_O2',\n",
              " 'PeakF_Beta_O2',\n",
              " 'MeanP_Theta_O2',\n",
              " 'MedianF_Theta_O2',\n",
              " 'MeanF_Theta_O2',\n",
              " 'Spectral Edge_Theta_O2',\n",
              " 'PeakF_Theta_O2',\n",
              " 'MeanP_Delta_O2',\n",
              " 'MedianF_Delta_O2',\n",
              " 'MeanF_Delta_O2',\n",
              " 'Spectral Edge_Delta_O2',\n",
              " 'PeakF_Delta_O2',\n",
              " 'MeanP_Gamma_O2',\n",
              " 'MedianF_Gamma_O2',\n",
              " 'MeanF_Gamma_O2',\n",
              " 'Spectral Edge_Gamma_O2',\n",
              " 'PeakF_Gamma_O2']"
            ]
          },
          "metadata": {},
          "execution_count": 286
        }
      ]
    },
    {
      "cell_type": "code",
      "source": [
        "df.info()"
      ],
      "metadata": {
        "colab": {
          "base_uri": "https://localhost:8080/"
        },
        "id": "b8oKhbhum2pd",
        "outputId": "5d25a247-6db5-40a9-f992-653a180b8df4"
      },
      "execution_count": 287,
      "outputs": [
        {
          "output_type": "stream",
          "name": "stdout",
          "text": [
            "<class 'pandas.core.frame.DataFrame'>\n",
            "RangeIndex: 3000 entries, 0 to 2999\n",
            "Data columns (total 76 columns):\n",
            " #   Column                  Non-Null Count  Dtype  \n",
            "---  ------                  --------------  -----  \n",
            " 0   Sleep Stage             3000 non-null   object \n",
            " 1   MeanP_Alpha_F4          3000 non-null   float64\n",
            " 2   MedianF_Alpha_F4        3000 non-null   float64\n",
            " 3   MeanF_Alpha_F4          3000 non-null   float64\n",
            " 4   Spectral Edge_Alpha_F4  3000 non-null   float64\n",
            " 5   PeakF_Alpha_F4          3000 non-null   float64\n",
            " 6   MeanP_Beta_F4           3000 non-null   float64\n",
            " 7   MedianF_Beta_F4         3000 non-null   float64\n",
            " 8   MeanF_Beta_F4           3000 non-null   float64\n",
            " 9   Spectral Edge_Beta_F4   3000 non-null   float64\n",
            " 10  PeakF_Beta_F4           3000 non-null   float64\n",
            " 11  MeanP_Theta_F4          3000 non-null   float64\n",
            " 12  MedianF_Theta_F4        3000 non-null   float64\n",
            " 13  MeanF_Theta_F4          3000 non-null   float64\n",
            " 14  Spectral Edge_Theta_F4  3000 non-null   float64\n",
            " 15  PeakF_Theta_F4          3000 non-null   float64\n",
            " 16  MeanP_Delta_F4          3000 non-null   float64\n",
            " 17  MedianF_Delta_F4        3000 non-null   float64\n",
            " 18  MeanF_Delta_F4          3000 non-null   float64\n",
            " 19  Spectral Edge_Delta_F4  3000 non-null   float64\n",
            " 20  PeakF_Delta_F4          3000 non-null   float64\n",
            " 21  MeanP_Gamma_F4          3000 non-null   float64\n",
            " 22  MedianF_Gamma_F4        3000 non-null   float64\n",
            " 23  MeanF_Gamma_F4          3000 non-null   float64\n",
            " 24  Spectral Edge_Gamma_F4  3000 non-null   float64\n",
            " 25  PeakF_Gamma_F4          3000 non-null   float64\n",
            " 26  MeanP_Alpha_C4          3000 non-null   float64\n",
            " 27  MedianF_Alpha_C4        3000 non-null   float64\n",
            " 28  MeanF_Alpha_C4          3000 non-null   float64\n",
            " 29  Spectral Edge_Alpha_C4  3000 non-null   float64\n",
            " 30  PeakF_Alpha_C4          3000 non-null   float64\n",
            " 31  MeanP_Beta_C4           3000 non-null   float64\n",
            " 32  MedianF_Beta_C4         3000 non-null   float64\n",
            " 33  MeanF_Beta_C4           3000 non-null   float64\n",
            " 34  Spectral Edge_Beta_C4   3000 non-null   float64\n",
            " 35  PeakF_Beta_C4           3000 non-null   float64\n",
            " 36  MeanP_Theta_C4          3000 non-null   float64\n",
            " 37  MedianF_Theta_C4        3000 non-null   float64\n",
            " 38  MeanF_Theta_C4          3000 non-null   float64\n",
            " 39  Spectral Edge_Theta_C4  3000 non-null   float64\n",
            " 40  PeakF_Theta_C4          3000 non-null   float64\n",
            " 41  MeanP_Delta_C4          3000 non-null   float64\n",
            " 42  MedianF_Delta_C4        3000 non-null   float64\n",
            " 43  MeanF_Delta_C4          3000 non-null   float64\n",
            " 44  Spectral Edge_Delta_C4  3000 non-null   float64\n",
            " 45  PeakF_Delta_C4          3000 non-null   float64\n",
            " 46  MeanP_Gamma_C4          3000 non-null   float64\n",
            " 47  MedianF_Gamma_C4        3000 non-null   float64\n",
            " 48  MeanF_Gamma_C4          3000 non-null   float64\n",
            " 49  Spectral Edge_Gamma_C4  3000 non-null   float64\n",
            " 50  PeakF_Gamma_C4          3000 non-null   float64\n",
            " 51  MeanP_Alpha_O2          3000 non-null   float64\n",
            " 52  MedianF_Alpha_O2        3000 non-null   float64\n",
            " 53  MeanF_Alpha_O2          3000 non-null   float64\n",
            " 54  Spectral Edge_Alpha_O2  3000 non-null   float64\n",
            " 55  PeakF_Alpha_O2          3000 non-null   float64\n",
            " 56  MeanP_Beta_O2           3000 non-null   float64\n",
            " 57  MedianF_Beta_O2         3000 non-null   float64\n",
            " 58  MeanF_Beta_O2           3000 non-null   float64\n",
            " 59  Spectral Edge_Beta_O2   3000 non-null   float64\n",
            " 60  PeakF_Beta_O2           3000 non-null   float64\n",
            " 61  MeanP_Theta_O2          3000 non-null   float64\n",
            " 62  MedianF_Theta_O2        3000 non-null   float64\n",
            " 63  MeanF_Theta_O2          3000 non-null   float64\n",
            " 64  Spectral Edge_Theta_O2  3000 non-null   float64\n",
            " 65  PeakF_Theta_O2          3000 non-null   float64\n",
            " 66  MeanP_Delta_O2          3000 non-null   float64\n",
            " 67  MedianF_Delta_O2        3000 non-null   float64\n",
            " 68  MeanF_Delta_O2          3000 non-null   float64\n",
            " 69  Spectral Edge_Delta_O2  3000 non-null   float64\n",
            " 70  PeakF_Delta_O2          3000 non-null   float64\n",
            " 71  MeanP_Gamma_O2          3000 non-null   float64\n",
            " 72  MedianF_Gamma_O2        3000 non-null   float64\n",
            " 73  MeanF_Gamma_O2          3000 non-null   float64\n",
            " 74  Spectral Edge_Gamma_O2  3000 non-null   float64\n",
            " 75  PeakF_Gamma_O2          3000 non-null   float64\n",
            "dtypes: float64(75), object(1)\n",
            "memory usage: 1.7+ MB\n"
          ]
        }
      ]
    },
    {
      "cell_type": "code",
      "source": [
        "df.describe()"
      ],
      "metadata": {
        "colab": {
          "base_uri": "https://localhost:8080/",
          "height": 411
        },
        "id": "czFMzMvSndrq",
        "outputId": "89fce066-f0ee-4bd2-e467-f31662ffe302"
      },
      "execution_count": 288,
      "outputs": [
        {
          "output_type": "execute_result",
          "data": {
            "text/plain": [
              "       MeanP_Alpha_F4  MedianF_Alpha_F4  MeanF_Alpha_F4  \\\n",
              "count     3000.000000       3000.000000     3000.000000   \n",
              "mean         0.000426          9.395700       16.318189   \n",
              "std          0.000579          1.056203        2.421351   \n",
              "min          0.000091          5.120000       11.239020   \n",
              "25%          0.000180          8.866340       14.860490   \n",
              "50%          0.000230          9.365850       15.984390   \n",
              "75%          0.000510          9.865370       16.983410   \n",
              "max          0.009070         15.235120       26.349270   \n",
              "\n",
              "       Spectral Edge_Alpha_F4  PeakF_Alpha_F4  MeanP_Beta_F4  MedianF_Beta_F4  \\\n",
              "count             3000.000000     3000.000000    3000.000000      3000.000000   \n",
              "mean                15.531499        8.461820       0.000539        15.935355   \n",
              "std                  2.627901        2.003914       0.001321         3.313279   \n",
              "min                 10.240000        2.872200       0.000094         8.991220   \n",
              "25%                 13.736590        6.868290       0.000170        13.861460   \n",
              "50%                 15.110240        8.117070       0.000260        15.484880   \n",
              "75%                 16.234150        9.865370       0.000430        16.983410   \n",
              "max                 27.598050       21.603900       0.023070        27.348290   \n",
              "\n",
              "       MeanF_Beta_F4  Spectral Edge_Beta_F4  PeakF_Beta_F4  ...  \\\n",
              "count    3000.000000            3000.000000    3000.000000  ...   \n",
              "mean       26.833337              30.644532      28.141726  ...   \n",
              "std         6.844106               9.345749      17.499984  ...   \n",
              "min        17.108290              16.234150       6.493660  ...   \n",
              "25%        22.727800              23.601950      12.362930  ...   \n",
              "50%        24.975610              27.847800      19.106340  ...   \n",
              "75%        29.346340              35.465370      49.951220  ...   \n",
              "max        49.826340              49.951220      50.076100  ...   \n",
              "\n",
              "       MeanP_Delta_O2  MedianF_Delta_O2  MeanF_Delta_O2  \\\n",
              "count     3000.000000       3000.000000     3000.000000   \n",
              "mean         0.009766          0.991989        6.134967   \n",
              "std          0.048910          0.279742        1.191390   \n",
              "min          0.000240          0.124880        1.623410   \n",
              "25%          0.000560          0.874150        5.744390   \n",
              "50%          0.000940          0.999020        6.243900   \n",
              "75%          0.002352          1.123900        6.618540   \n",
              "max          0.923220          2.247800       13.112200   \n",
              "\n",
              "       Spectral Edge_Delta_O2  PeakF_Delta_O2  MeanP_Gamma_O2  \\\n",
              "count             3000.000000     3000.000000     3000.000000   \n",
              "mean                 3.135855        0.750433        0.000136   \n",
              "std                  0.787203        0.232703        0.000522   \n",
              "min                  0.624390        0.124880        0.000009   \n",
              "25%                  2.747320        0.624390        0.000023   \n",
              "50%                  3.371710        0.749270        0.000028   \n",
              "75%                  3.621460        0.874150        0.000045   \n",
              "max                  6.243900        2.747320        0.009810   \n",
              "\n",
              "       MedianF_Gamma_O2  MeanF_Gamma_O2  Spectral Edge_Gamma_O2  \\\n",
              "count       3000.000000     3000.000000             3000.000000   \n",
              "mean          38.360163       45.633352               49.122280   \n",
              "std            9.051138        5.533491                1.971033   \n",
              "min           15.984390       32.343410               37.713170   \n",
              "25%           31.219510       40.085850               49.826340   \n",
              "50%           38.774635       49.826340               49.951220   \n",
              "75%           48.702440       49.826340               49.951220   \n",
              "max           49.951220       49.951220               55.196100   \n",
              "\n",
              "       PeakF_Gamma_O2  \n",
              "count     3000.000000  \n",
              "mean        47.321954  \n",
              "std          7.687078  \n",
              "min          7.367800  \n",
              "25%         49.951220  \n",
              "50%         49.951220  \n",
              "75%         49.951220  \n",
              "max         50.076100  \n",
              "\n",
              "[8 rows x 75 columns]"
            ],
            "text/html": [
              "\n",
              "  <div id=\"df-5317d7fa-35eb-4ec9-b853-65fd81bc8bec\">\n",
              "    <div class=\"colab-df-container\">\n",
              "      <div>\n",
              "<style scoped>\n",
              "    .dataframe tbody tr th:only-of-type {\n",
              "        vertical-align: middle;\n",
              "    }\n",
              "\n",
              "    .dataframe tbody tr th {\n",
              "        vertical-align: top;\n",
              "    }\n",
              "\n",
              "    .dataframe thead th {\n",
              "        text-align: right;\n",
              "    }\n",
              "</style>\n",
              "<table border=\"1\" class=\"dataframe\">\n",
              "  <thead>\n",
              "    <tr style=\"text-align: right;\">\n",
              "      <th></th>\n",
              "      <th>MeanP_Alpha_F4</th>\n",
              "      <th>MedianF_Alpha_F4</th>\n",
              "      <th>MeanF_Alpha_F4</th>\n",
              "      <th>Spectral Edge_Alpha_F4</th>\n",
              "      <th>PeakF_Alpha_F4</th>\n",
              "      <th>MeanP_Beta_F4</th>\n",
              "      <th>MedianF_Beta_F4</th>\n",
              "      <th>MeanF_Beta_F4</th>\n",
              "      <th>Spectral Edge_Beta_F4</th>\n",
              "      <th>PeakF_Beta_F4</th>\n",
              "      <th>...</th>\n",
              "      <th>MeanP_Delta_O2</th>\n",
              "      <th>MedianF_Delta_O2</th>\n",
              "      <th>MeanF_Delta_O2</th>\n",
              "      <th>Spectral Edge_Delta_O2</th>\n",
              "      <th>PeakF_Delta_O2</th>\n",
              "      <th>MeanP_Gamma_O2</th>\n",
              "      <th>MedianF_Gamma_O2</th>\n",
              "      <th>MeanF_Gamma_O2</th>\n",
              "      <th>Spectral Edge_Gamma_O2</th>\n",
              "      <th>PeakF_Gamma_O2</th>\n",
              "    </tr>\n",
              "  </thead>\n",
              "  <tbody>\n",
              "    <tr>\n",
              "      <th>count</th>\n",
              "      <td>3000.000000</td>\n",
              "      <td>3000.000000</td>\n",
              "      <td>3000.000000</td>\n",
              "      <td>3000.000000</td>\n",
              "      <td>3000.000000</td>\n",
              "      <td>3000.000000</td>\n",
              "      <td>3000.000000</td>\n",
              "      <td>3000.000000</td>\n",
              "      <td>3000.000000</td>\n",
              "      <td>3000.000000</td>\n",
              "      <td>...</td>\n",
              "      <td>3000.000000</td>\n",
              "      <td>3000.000000</td>\n",
              "      <td>3000.000000</td>\n",
              "      <td>3000.000000</td>\n",
              "      <td>3000.000000</td>\n",
              "      <td>3000.000000</td>\n",
              "      <td>3000.000000</td>\n",
              "      <td>3000.000000</td>\n",
              "      <td>3000.000000</td>\n",
              "      <td>3000.000000</td>\n",
              "    </tr>\n",
              "    <tr>\n",
              "      <th>mean</th>\n",
              "      <td>0.000426</td>\n",
              "      <td>9.395700</td>\n",
              "      <td>16.318189</td>\n",
              "      <td>15.531499</td>\n",
              "      <td>8.461820</td>\n",
              "      <td>0.000539</td>\n",
              "      <td>15.935355</td>\n",
              "      <td>26.833337</td>\n",
              "      <td>30.644532</td>\n",
              "      <td>28.141726</td>\n",
              "      <td>...</td>\n",
              "      <td>0.009766</td>\n",
              "      <td>0.991989</td>\n",
              "      <td>6.134967</td>\n",
              "      <td>3.135855</td>\n",
              "      <td>0.750433</td>\n",
              "      <td>0.000136</td>\n",
              "      <td>38.360163</td>\n",
              "      <td>45.633352</td>\n",
              "      <td>49.122280</td>\n",
              "      <td>47.321954</td>\n",
              "    </tr>\n",
              "    <tr>\n",
              "      <th>std</th>\n",
              "      <td>0.000579</td>\n",
              "      <td>1.056203</td>\n",
              "      <td>2.421351</td>\n",
              "      <td>2.627901</td>\n",
              "      <td>2.003914</td>\n",
              "      <td>0.001321</td>\n",
              "      <td>3.313279</td>\n",
              "      <td>6.844106</td>\n",
              "      <td>9.345749</td>\n",
              "      <td>17.499984</td>\n",
              "      <td>...</td>\n",
              "      <td>0.048910</td>\n",
              "      <td>0.279742</td>\n",
              "      <td>1.191390</td>\n",
              "      <td>0.787203</td>\n",
              "      <td>0.232703</td>\n",
              "      <td>0.000522</td>\n",
              "      <td>9.051138</td>\n",
              "      <td>5.533491</td>\n",
              "      <td>1.971033</td>\n",
              "      <td>7.687078</td>\n",
              "    </tr>\n",
              "    <tr>\n",
              "      <th>min</th>\n",
              "      <td>0.000091</td>\n",
              "      <td>5.120000</td>\n",
              "      <td>11.239020</td>\n",
              "      <td>10.240000</td>\n",
              "      <td>2.872200</td>\n",
              "      <td>0.000094</td>\n",
              "      <td>8.991220</td>\n",
              "      <td>17.108290</td>\n",
              "      <td>16.234150</td>\n",
              "      <td>6.493660</td>\n",
              "      <td>...</td>\n",
              "      <td>0.000240</td>\n",
              "      <td>0.124880</td>\n",
              "      <td>1.623410</td>\n",
              "      <td>0.624390</td>\n",
              "      <td>0.124880</td>\n",
              "      <td>0.000009</td>\n",
              "      <td>15.984390</td>\n",
              "      <td>32.343410</td>\n",
              "      <td>37.713170</td>\n",
              "      <td>7.367800</td>\n",
              "    </tr>\n",
              "    <tr>\n",
              "      <th>25%</th>\n",
              "      <td>0.000180</td>\n",
              "      <td>8.866340</td>\n",
              "      <td>14.860490</td>\n",
              "      <td>13.736590</td>\n",
              "      <td>6.868290</td>\n",
              "      <td>0.000170</td>\n",
              "      <td>13.861460</td>\n",
              "      <td>22.727800</td>\n",
              "      <td>23.601950</td>\n",
              "      <td>12.362930</td>\n",
              "      <td>...</td>\n",
              "      <td>0.000560</td>\n",
              "      <td>0.874150</td>\n",
              "      <td>5.744390</td>\n",
              "      <td>2.747320</td>\n",
              "      <td>0.624390</td>\n",
              "      <td>0.000023</td>\n",
              "      <td>31.219510</td>\n",
              "      <td>40.085850</td>\n",
              "      <td>49.826340</td>\n",
              "      <td>49.951220</td>\n",
              "    </tr>\n",
              "    <tr>\n",
              "      <th>50%</th>\n",
              "      <td>0.000230</td>\n",
              "      <td>9.365850</td>\n",
              "      <td>15.984390</td>\n",
              "      <td>15.110240</td>\n",
              "      <td>8.117070</td>\n",
              "      <td>0.000260</td>\n",
              "      <td>15.484880</td>\n",
              "      <td>24.975610</td>\n",
              "      <td>27.847800</td>\n",
              "      <td>19.106340</td>\n",
              "      <td>...</td>\n",
              "      <td>0.000940</td>\n",
              "      <td>0.999020</td>\n",
              "      <td>6.243900</td>\n",
              "      <td>3.371710</td>\n",
              "      <td>0.749270</td>\n",
              "      <td>0.000028</td>\n",
              "      <td>38.774635</td>\n",
              "      <td>49.826340</td>\n",
              "      <td>49.951220</td>\n",
              "      <td>49.951220</td>\n",
              "    </tr>\n",
              "    <tr>\n",
              "      <th>75%</th>\n",
              "      <td>0.000510</td>\n",
              "      <td>9.865370</td>\n",
              "      <td>16.983410</td>\n",
              "      <td>16.234150</td>\n",
              "      <td>9.865370</td>\n",
              "      <td>0.000430</td>\n",
              "      <td>16.983410</td>\n",
              "      <td>29.346340</td>\n",
              "      <td>35.465370</td>\n",
              "      <td>49.951220</td>\n",
              "      <td>...</td>\n",
              "      <td>0.002352</td>\n",
              "      <td>1.123900</td>\n",
              "      <td>6.618540</td>\n",
              "      <td>3.621460</td>\n",
              "      <td>0.874150</td>\n",
              "      <td>0.000045</td>\n",
              "      <td>48.702440</td>\n",
              "      <td>49.826340</td>\n",
              "      <td>49.951220</td>\n",
              "      <td>49.951220</td>\n",
              "    </tr>\n",
              "    <tr>\n",
              "      <th>max</th>\n",
              "      <td>0.009070</td>\n",
              "      <td>15.235120</td>\n",
              "      <td>26.349270</td>\n",
              "      <td>27.598050</td>\n",
              "      <td>21.603900</td>\n",
              "      <td>0.023070</td>\n",
              "      <td>27.348290</td>\n",
              "      <td>49.826340</td>\n",
              "      <td>49.951220</td>\n",
              "      <td>50.076100</td>\n",
              "      <td>...</td>\n",
              "      <td>0.923220</td>\n",
              "      <td>2.247800</td>\n",
              "      <td>13.112200</td>\n",
              "      <td>6.243900</td>\n",
              "      <td>2.747320</td>\n",
              "      <td>0.009810</td>\n",
              "      <td>49.951220</td>\n",
              "      <td>49.951220</td>\n",
              "      <td>55.196100</td>\n",
              "      <td>50.076100</td>\n",
              "    </tr>\n",
              "  </tbody>\n",
              "</table>\n",
              "<p>8 rows × 75 columns</p>\n",
              "</div>\n",
              "      <button class=\"colab-df-convert\" onclick=\"convertToInteractive('df-5317d7fa-35eb-4ec9-b853-65fd81bc8bec')\"\n",
              "              title=\"Convert this dataframe to an interactive table.\"\n",
              "              style=\"display:none;\">\n",
              "        \n",
              "  <svg xmlns=\"http://www.w3.org/2000/svg\" height=\"24px\"viewBox=\"0 0 24 24\"\n",
              "       width=\"24px\">\n",
              "    <path d=\"M0 0h24v24H0V0z\" fill=\"none\"/>\n",
              "    <path d=\"M18.56 5.44l.94 2.06.94-2.06 2.06-.94-2.06-.94-.94-2.06-.94 2.06-2.06.94zm-11 1L8.5 8.5l.94-2.06 2.06-.94-2.06-.94L8.5 2.5l-.94 2.06-2.06.94zm10 10l.94 2.06.94-2.06 2.06-.94-2.06-.94-.94-2.06-.94 2.06-2.06.94z\"/><path d=\"M17.41 7.96l-1.37-1.37c-.4-.4-.92-.59-1.43-.59-.52 0-1.04.2-1.43.59L10.3 9.45l-7.72 7.72c-.78.78-.78 2.05 0 2.83L4 21.41c.39.39.9.59 1.41.59.51 0 1.02-.2 1.41-.59l7.78-7.78 2.81-2.81c.8-.78.8-2.07 0-2.86zM5.41 20L4 18.59l7.72-7.72 1.47 1.35L5.41 20z\"/>\n",
              "  </svg>\n",
              "      </button>\n",
              "      \n",
              "  <style>\n",
              "    .colab-df-container {\n",
              "      display:flex;\n",
              "      flex-wrap:wrap;\n",
              "      gap: 12px;\n",
              "    }\n",
              "\n",
              "    .colab-df-convert {\n",
              "      background-color: #E8F0FE;\n",
              "      border: none;\n",
              "      border-radius: 50%;\n",
              "      cursor: pointer;\n",
              "      display: none;\n",
              "      fill: #1967D2;\n",
              "      height: 32px;\n",
              "      padding: 0 0 0 0;\n",
              "      width: 32px;\n",
              "    }\n",
              "\n",
              "    .colab-df-convert:hover {\n",
              "      background-color: #E2EBFA;\n",
              "      box-shadow: 0px 1px 2px rgba(60, 64, 67, 0.3), 0px 1px 3px 1px rgba(60, 64, 67, 0.15);\n",
              "      fill: #174EA6;\n",
              "    }\n",
              "\n",
              "    [theme=dark] .colab-df-convert {\n",
              "      background-color: #3B4455;\n",
              "      fill: #D2E3FC;\n",
              "    }\n",
              "\n",
              "    [theme=dark] .colab-df-convert:hover {\n",
              "      background-color: #434B5C;\n",
              "      box-shadow: 0px 1px 3px 1px rgba(0, 0, 0, 0.15);\n",
              "      filter: drop-shadow(0px 1px 2px rgba(0, 0, 0, 0.3));\n",
              "      fill: #FFFFFF;\n",
              "    }\n",
              "  </style>\n",
              "\n",
              "      <script>\n",
              "        const buttonEl =\n",
              "          document.querySelector('#df-5317d7fa-35eb-4ec9-b853-65fd81bc8bec button.colab-df-convert');\n",
              "        buttonEl.style.display =\n",
              "          google.colab.kernel.accessAllowed ? 'block' : 'none';\n",
              "\n",
              "        async function convertToInteractive(key) {\n",
              "          const element = document.querySelector('#df-5317d7fa-35eb-4ec9-b853-65fd81bc8bec');\n",
              "          const dataTable =\n",
              "            await google.colab.kernel.invokeFunction('convertToInteractive',\n",
              "                                                     [key], {});\n",
              "          if (!dataTable) return;\n",
              "\n",
              "          const docLinkHtml = 'Like what you see? Visit the ' +\n",
              "            '<a target=\"_blank\" href=https://colab.research.google.com/notebooks/data_table.ipynb>data table notebook</a>'\n",
              "            + ' to learn more about interactive tables.';\n",
              "          element.innerHTML = '';\n",
              "          dataTable['output_type'] = 'display_data';\n",
              "          await google.colab.output.renderOutput(dataTable, element);\n",
              "          const docLink = document.createElement('div');\n",
              "          docLink.innerHTML = docLinkHtml;\n",
              "          element.appendChild(docLink);\n",
              "        }\n",
              "      </script>\n",
              "    </div>\n",
              "  </div>\n",
              "  "
            ]
          },
          "metadata": {},
          "execution_count": 288
        }
      ]
    },
    {
      "cell_type": "code",
      "source": [
        "df['Sleep Stage'].value_counts()"
      ],
      "metadata": {
        "colab": {
          "base_uri": "https://localhost:8080/"
        },
        "id": "rv94bkKFpC4t",
        "outputId": "52c5b126-e173-4ded-a8e2-8d0a3d8620be"
      },
      "execution_count": 289,
      "outputs": [
        {
          "output_type": "execute_result",
          "data": {
            "text/plain": [
              "NREM    1798\n",
              "Wake     629\n",
              "REM      573\n",
              "Name: Sleep Stage, dtype: int64"
            ]
          },
          "metadata": {},
          "execution_count": 289
        }
      ]
    },
    {
      "cell_type": "code",
      "source": [
        "df[target].value_counts()"
      ],
      "metadata": {
        "colab": {
          "base_uri": "https://localhost:8080/"
        },
        "id": "EOvUW3ecqEjE",
        "outputId": "15e6f98e-805a-48f0-b377-dd4b70cc808f"
      },
      "execution_count": 290,
      "outputs": [
        {
          "output_type": "execute_result",
          "data": {
            "text/plain": [
              "NREM    1798\n",
              "Wake     629\n",
              "REM      573\n",
              "Name: Sleep Stage, dtype: int64"
            ]
          },
          "metadata": {},
          "execution_count": 290
        }
      ]
    },
    {
      "cell_type": "markdown",
      "source": [
        "#Dropping null values"
      ],
      "metadata": {
        "id": "lZCYxEXR3Ukk"
      }
    },
    {
      "cell_type": "code",
      "source": [
        "df.dropna(axis = 0, how = 'any', inplace = True )\n",
        "df = df.reset_index(drop = True)"
      ],
      "metadata": {
        "id": "nWHGEdIQsJ1A"
      },
      "execution_count": 291,
      "outputs": []
    },
    {
      "cell_type": "code",
      "source": [
        "df.info()"
      ],
      "metadata": {
        "colab": {
          "base_uri": "https://localhost:8080/"
        },
        "id": "HyFmOasct7UO",
        "outputId": "959d7ca9-d6d6-44d0-8bf6-0ce436fa981f"
      },
      "execution_count": 292,
      "outputs": [
        {
          "output_type": "stream",
          "name": "stdout",
          "text": [
            "<class 'pandas.core.frame.DataFrame'>\n",
            "RangeIndex: 3000 entries, 0 to 2999\n",
            "Data columns (total 76 columns):\n",
            " #   Column                  Non-Null Count  Dtype  \n",
            "---  ------                  --------------  -----  \n",
            " 0   Sleep Stage             3000 non-null   object \n",
            " 1   MeanP_Alpha_F4          3000 non-null   float64\n",
            " 2   MedianF_Alpha_F4        3000 non-null   float64\n",
            " 3   MeanF_Alpha_F4          3000 non-null   float64\n",
            " 4   Spectral Edge_Alpha_F4  3000 non-null   float64\n",
            " 5   PeakF_Alpha_F4          3000 non-null   float64\n",
            " 6   MeanP_Beta_F4           3000 non-null   float64\n",
            " 7   MedianF_Beta_F4         3000 non-null   float64\n",
            " 8   MeanF_Beta_F4           3000 non-null   float64\n",
            " 9   Spectral Edge_Beta_F4   3000 non-null   float64\n",
            " 10  PeakF_Beta_F4           3000 non-null   float64\n",
            " 11  MeanP_Theta_F4          3000 non-null   float64\n",
            " 12  MedianF_Theta_F4        3000 non-null   float64\n",
            " 13  MeanF_Theta_F4          3000 non-null   float64\n",
            " 14  Spectral Edge_Theta_F4  3000 non-null   float64\n",
            " 15  PeakF_Theta_F4          3000 non-null   float64\n",
            " 16  MeanP_Delta_F4          3000 non-null   float64\n",
            " 17  MedianF_Delta_F4        3000 non-null   float64\n",
            " 18  MeanF_Delta_F4          3000 non-null   float64\n",
            " 19  Spectral Edge_Delta_F4  3000 non-null   float64\n",
            " 20  PeakF_Delta_F4          3000 non-null   float64\n",
            " 21  MeanP_Gamma_F4          3000 non-null   float64\n",
            " 22  MedianF_Gamma_F4        3000 non-null   float64\n",
            " 23  MeanF_Gamma_F4          3000 non-null   float64\n",
            " 24  Spectral Edge_Gamma_F4  3000 non-null   float64\n",
            " 25  PeakF_Gamma_F4          3000 non-null   float64\n",
            " 26  MeanP_Alpha_C4          3000 non-null   float64\n",
            " 27  MedianF_Alpha_C4        3000 non-null   float64\n",
            " 28  MeanF_Alpha_C4          3000 non-null   float64\n",
            " 29  Spectral Edge_Alpha_C4  3000 non-null   float64\n",
            " 30  PeakF_Alpha_C4          3000 non-null   float64\n",
            " 31  MeanP_Beta_C4           3000 non-null   float64\n",
            " 32  MedianF_Beta_C4         3000 non-null   float64\n",
            " 33  MeanF_Beta_C4           3000 non-null   float64\n",
            " 34  Spectral Edge_Beta_C4   3000 non-null   float64\n",
            " 35  PeakF_Beta_C4           3000 non-null   float64\n",
            " 36  MeanP_Theta_C4          3000 non-null   float64\n",
            " 37  MedianF_Theta_C4        3000 non-null   float64\n",
            " 38  MeanF_Theta_C4          3000 non-null   float64\n",
            " 39  Spectral Edge_Theta_C4  3000 non-null   float64\n",
            " 40  PeakF_Theta_C4          3000 non-null   float64\n",
            " 41  MeanP_Delta_C4          3000 non-null   float64\n",
            " 42  MedianF_Delta_C4        3000 non-null   float64\n",
            " 43  MeanF_Delta_C4          3000 non-null   float64\n",
            " 44  Spectral Edge_Delta_C4  3000 non-null   float64\n",
            " 45  PeakF_Delta_C4          3000 non-null   float64\n",
            " 46  MeanP_Gamma_C4          3000 non-null   float64\n",
            " 47  MedianF_Gamma_C4        3000 non-null   float64\n",
            " 48  MeanF_Gamma_C4          3000 non-null   float64\n",
            " 49  Spectral Edge_Gamma_C4  3000 non-null   float64\n",
            " 50  PeakF_Gamma_C4          3000 non-null   float64\n",
            " 51  MeanP_Alpha_O2          3000 non-null   float64\n",
            " 52  MedianF_Alpha_O2        3000 non-null   float64\n",
            " 53  MeanF_Alpha_O2          3000 non-null   float64\n",
            " 54  Spectral Edge_Alpha_O2  3000 non-null   float64\n",
            " 55  PeakF_Alpha_O2          3000 non-null   float64\n",
            " 56  MeanP_Beta_O2           3000 non-null   float64\n",
            " 57  MedianF_Beta_O2         3000 non-null   float64\n",
            " 58  MeanF_Beta_O2           3000 non-null   float64\n",
            " 59  Spectral Edge_Beta_O2   3000 non-null   float64\n",
            " 60  PeakF_Beta_O2           3000 non-null   float64\n",
            " 61  MeanP_Theta_O2          3000 non-null   float64\n",
            " 62  MedianF_Theta_O2        3000 non-null   float64\n",
            " 63  MeanF_Theta_O2          3000 non-null   float64\n",
            " 64  Spectral Edge_Theta_O2  3000 non-null   float64\n",
            " 65  PeakF_Theta_O2          3000 non-null   float64\n",
            " 66  MeanP_Delta_O2          3000 non-null   float64\n",
            " 67  MedianF_Delta_O2        3000 non-null   float64\n",
            " 68  MeanF_Delta_O2          3000 non-null   float64\n",
            " 69  Spectral Edge_Delta_O2  3000 non-null   float64\n",
            " 70  PeakF_Delta_O2          3000 non-null   float64\n",
            " 71  MeanP_Gamma_O2          3000 non-null   float64\n",
            " 72  MedianF_Gamma_O2        3000 non-null   float64\n",
            " 73  MeanF_Gamma_O2          3000 non-null   float64\n",
            " 74  Spectral Edge_Gamma_O2  3000 non-null   float64\n",
            " 75  PeakF_Gamma_O2          3000 non-null   float64\n",
            "dtypes: float64(75), object(1)\n",
            "memory usage: 1.7+ MB\n"
          ]
        }
      ]
    },
    {
      "cell_type": "markdown",
      "source": [
        "#Label Encoding"
      ],
      "metadata": {
        "id": "NjGpefI53vYh"
      }
    },
    {
      "cell_type": "code",
      "source": [
        "from sklearn.preprocessing import LabelEncoder\n",
        "encoder = LabelEncoder()"
      ],
      "metadata": {
        "id": "PFg9J8gLt7N9"
      },
      "execution_count": 293,
      "outputs": []
    },
    {
      "cell_type": "code",
      "source": [
        "df[target].value_counts()"
      ],
      "metadata": {
        "colab": {
          "base_uri": "https://localhost:8080/"
        },
        "id": "75BpWIiIxEtb",
        "outputId": "63422c0d-0f9c-4dc9-daef-0321003704bc"
      },
      "execution_count": 294,
      "outputs": [
        {
          "output_type": "execute_result",
          "data": {
            "text/plain": [
              "NREM    1798\n",
              "Wake     629\n",
              "REM      573\n",
              "Name: Sleep Stage, dtype: int64"
            ]
          },
          "metadata": {},
          "execution_count": 294
        }
      ]
    },
    {
      "cell_type": "code",
      "source": [
        "df[target] = encoder.fit_transform(df[target])"
      ],
      "metadata": {
        "id": "ZM_zTxbpxUFM"
      },
      "execution_count": 295,
      "outputs": []
    },
    {
      "cell_type": "code",
      "source": [
        "df[target].value_counts()"
      ],
      "metadata": {
        "colab": {
          "base_uri": "https://localhost:8080/"
        },
        "id": "bKpgJkPuxdbB",
        "outputId": "b94460b9-ab64-4af9-84ed-7ebadf8ec324"
      },
      "execution_count": 296,
      "outputs": [
        {
          "output_type": "execute_result",
          "data": {
            "text/plain": [
              "0    1798\n",
              "2     629\n",
              "1     573\n",
              "Name: Sleep Stage, dtype: int64"
            ]
          },
          "metadata": {},
          "execution_count": 296
        }
      ]
    },
    {
      "cell_type": "code",
      "source": [
        "df.info()"
      ],
      "metadata": {
        "colab": {
          "base_uri": "https://localhost:8080/"
        },
        "id": "g-AhqPBtxmmB",
        "outputId": "7859a05c-0ee8-4713-8663-df33788e8e23"
      },
      "execution_count": 299,
      "outputs": [
        {
          "output_type": "stream",
          "name": "stdout",
          "text": [
            "<class 'pandas.core.frame.DataFrame'>\n",
            "RangeIndex: 3000 entries, 0 to 2999\n",
            "Data columns (total 76 columns):\n",
            " #   Column                  Non-Null Count  Dtype  \n",
            "---  ------                  --------------  -----  \n",
            " 0   Sleep Stage             3000 non-null   int64  \n",
            " 1   MeanP_Alpha_F4          3000 non-null   float64\n",
            " 2   MedianF_Alpha_F4        3000 non-null   float64\n",
            " 3   MeanF_Alpha_F4          3000 non-null   float64\n",
            " 4   Spectral Edge_Alpha_F4  3000 non-null   float64\n",
            " 5   PeakF_Alpha_F4          3000 non-null   float64\n",
            " 6   MeanP_Beta_F4           3000 non-null   float64\n",
            " 7   MedianF_Beta_F4         3000 non-null   float64\n",
            " 8   MeanF_Beta_F4           3000 non-null   float64\n",
            " 9   Spectral Edge_Beta_F4   3000 non-null   float64\n",
            " 10  PeakF_Beta_F4           3000 non-null   float64\n",
            " 11  MeanP_Theta_F4          3000 non-null   float64\n",
            " 12  MedianF_Theta_F4        3000 non-null   float64\n",
            " 13  MeanF_Theta_F4          3000 non-null   float64\n",
            " 14  Spectral Edge_Theta_F4  3000 non-null   float64\n",
            " 15  PeakF_Theta_F4          3000 non-null   float64\n",
            " 16  MeanP_Delta_F4          3000 non-null   float64\n",
            " 17  MedianF_Delta_F4        3000 non-null   float64\n",
            " 18  MeanF_Delta_F4          3000 non-null   float64\n",
            " 19  Spectral Edge_Delta_F4  3000 non-null   float64\n",
            " 20  PeakF_Delta_F4          3000 non-null   float64\n",
            " 21  MeanP_Gamma_F4          3000 non-null   float64\n",
            " 22  MedianF_Gamma_F4        3000 non-null   float64\n",
            " 23  MeanF_Gamma_F4          3000 non-null   float64\n",
            " 24  Spectral Edge_Gamma_F4  3000 non-null   float64\n",
            " 25  PeakF_Gamma_F4          3000 non-null   float64\n",
            " 26  MeanP_Alpha_C4          3000 non-null   float64\n",
            " 27  MedianF_Alpha_C4        3000 non-null   float64\n",
            " 28  MeanF_Alpha_C4          3000 non-null   float64\n",
            " 29  Spectral Edge_Alpha_C4  3000 non-null   float64\n",
            " 30  PeakF_Alpha_C4          3000 non-null   float64\n",
            " 31  MeanP_Beta_C4           3000 non-null   float64\n",
            " 32  MedianF_Beta_C4         3000 non-null   float64\n",
            " 33  MeanF_Beta_C4           3000 non-null   float64\n",
            " 34  Spectral Edge_Beta_C4   3000 non-null   float64\n",
            " 35  PeakF_Beta_C4           3000 non-null   float64\n",
            " 36  MeanP_Theta_C4          3000 non-null   float64\n",
            " 37  MedianF_Theta_C4        3000 non-null   float64\n",
            " 38  MeanF_Theta_C4          3000 non-null   float64\n",
            " 39  Spectral Edge_Theta_C4  3000 non-null   float64\n",
            " 40  PeakF_Theta_C4          3000 non-null   float64\n",
            " 41  MeanP_Delta_C4          3000 non-null   float64\n",
            " 42  MedianF_Delta_C4        3000 non-null   float64\n",
            " 43  MeanF_Delta_C4          3000 non-null   float64\n",
            " 44  Spectral Edge_Delta_C4  3000 non-null   float64\n",
            " 45  PeakF_Delta_C4          3000 non-null   float64\n",
            " 46  MeanP_Gamma_C4          3000 non-null   float64\n",
            " 47  MedianF_Gamma_C4        3000 non-null   float64\n",
            " 48  MeanF_Gamma_C4          3000 non-null   float64\n",
            " 49  Spectral Edge_Gamma_C4  3000 non-null   float64\n",
            " 50  PeakF_Gamma_C4          3000 non-null   float64\n",
            " 51  MeanP_Alpha_O2          3000 non-null   float64\n",
            " 52  MedianF_Alpha_O2        3000 non-null   float64\n",
            " 53  MeanF_Alpha_O2          3000 non-null   float64\n",
            " 54  Spectral Edge_Alpha_O2  3000 non-null   float64\n",
            " 55  PeakF_Alpha_O2          3000 non-null   float64\n",
            " 56  MeanP_Beta_O2           3000 non-null   float64\n",
            " 57  MedianF_Beta_O2         3000 non-null   float64\n",
            " 58  MeanF_Beta_O2           3000 non-null   float64\n",
            " 59  Spectral Edge_Beta_O2   3000 non-null   float64\n",
            " 60  PeakF_Beta_O2           3000 non-null   float64\n",
            " 61  MeanP_Theta_O2          3000 non-null   float64\n",
            " 62  MedianF_Theta_O2        3000 non-null   float64\n",
            " 63  MeanF_Theta_O2          3000 non-null   float64\n",
            " 64  Spectral Edge_Theta_O2  3000 non-null   float64\n",
            " 65  PeakF_Theta_O2          3000 non-null   float64\n",
            " 66  MeanP_Delta_O2          3000 non-null   float64\n",
            " 67  MedianF_Delta_O2        3000 non-null   float64\n",
            " 68  MeanF_Delta_O2          3000 non-null   float64\n",
            " 69  Spectral Edge_Delta_O2  3000 non-null   float64\n",
            " 70  PeakF_Delta_O2          3000 non-null   float64\n",
            " 71  MeanP_Gamma_O2          3000 non-null   float64\n",
            " 72  MedianF_Gamma_O2        3000 non-null   float64\n",
            " 73  MeanF_Gamma_O2          3000 non-null   float64\n",
            " 74  Spectral Edge_Gamma_O2  3000 non-null   float64\n",
            " 75  PeakF_Gamma_O2          3000 non-null   float64\n",
            "dtypes: float64(75), int64(1)\n",
            "memory usage: 1.7 MB\n"
          ]
        }
      ]
    },
    {
      "cell_type": "markdown",
      "source": [
        "#Spliting"
      ],
      "metadata": {
        "id": "Pw0Tb4hkQfia"
      }
    },
    {
      "cell_type": "markdown",
      "source": [],
      "metadata": {
        "id": "a-_dZ_2XQffD"
      }
    },
    {
      "cell_type": "code",
      "source": [
        "X = df.loc[:, df.columns != target]"
      ],
      "metadata": {
        "id": "bDw0YkHuQfEM"
      },
      "execution_count": 300,
      "outputs": []
    },
    {
      "cell_type": "code",
      "source": [
        "X.head()"
      ],
      "metadata": {
        "colab": {
          "base_uri": "https://localhost:8080/",
          "height": 317
        },
        "id": "wF3TOeZ2RU6q",
        "outputId": "08221421-350b-49f8-835f-4b7da0141501"
      },
      "execution_count": 301,
      "outputs": [
        {
          "output_type": "execute_result",
          "data": {
            "text/plain": [
              "   MeanP_Alpha_F4  MedianF_Alpha_F4  MeanF_Alpha_F4  Spectral Edge_Alpha_F4  \\\n",
              "0         0.00051           8.74146        18.48195                17.48293   \n",
              "1         0.00040          10.24000        17.48293                16.85854   \n",
              "2         0.00036           9.74049        17.98244                17.48293   \n",
              "3         0.00035          10.11512        17.60780                17.10829   \n",
              "4         0.00033           9.74049        17.60780                17.23317   \n",
              "\n",
              "   PeakF_Alpha_F4  MeanP_Beta_F4  MedianF_Beta_F4  MeanF_Beta_F4  \\\n",
              "0         8.24195        0.00071         19.73073       29.84585   \n",
              "1        10.61463        0.00051         17.23317       26.34927   \n",
              "2         8.74146        0.00047         17.60780       25.47512   \n",
              "3         9.61561        0.00047         17.35805       26.47415   \n",
              "4         8.11707        0.00043         17.23317       25.84976   \n",
              "\n",
              "   Spectral Edge_Beta_F4  PeakF_Beta_F4  ...  MeanP_Delta_O2  \\\n",
              "0               33.84195       15.98439  ...         0.00724   \n",
              "1               29.34634       19.60585  ...         0.00723   \n",
              "2               28.22244       18.73171  ...         0.00230   \n",
              "3               28.72195       16.35902  ...         0.00091   \n",
              "4               28.09756       17.60780  ...         0.00175   \n",
              "\n",
              "   MedianF_Delta_O2  MeanF_Delta_O2  Spectral Edge_Delta_O2  PeakF_Delta_O2  \\\n",
              "0           0.74927         3.87122                 1.99805         0.87415   \n",
              "1           0.49951         3.74634                 1.24878         0.49951   \n",
              "2           0.62439         5.24488                 2.12293         0.62439   \n",
              "3           0.87415         6.61854                 3.12195         0.62439   \n",
              "4           0.49951         5.74439                 2.24780         0.49951   \n",
              "\n",
              "   MeanP_Gamma_O2  MedianF_Gamma_O2  MeanF_Gamma_O2  Spectral Edge_Gamma_O2  \\\n",
              "0        0.000210          35.21561        42.20878                49.95122   \n",
              "1        0.000095          34.34146        43.33268                49.95122   \n",
              "2        0.000074          34.59122        45.95512                49.95122   \n",
              "3        0.000082          32.46829        43.95707                49.95122   \n",
              "4        0.000077          33.59220        44.83122                49.95122   \n",
              "\n",
              "   PeakF_Gamma_O2  \n",
              "0        49.95122  \n",
              "1        49.95122  \n",
              "2        49.95122  \n",
              "3        49.95122  \n",
              "4        49.95122  \n",
              "\n",
              "[5 rows x 75 columns]"
            ],
            "text/html": [
              "\n",
              "  <div id=\"df-f324fd38-cf34-40d7-b117-bd8179158ad3\">\n",
              "    <div class=\"colab-df-container\">\n",
              "      <div>\n",
              "<style scoped>\n",
              "    .dataframe tbody tr th:only-of-type {\n",
              "        vertical-align: middle;\n",
              "    }\n",
              "\n",
              "    .dataframe tbody tr th {\n",
              "        vertical-align: top;\n",
              "    }\n",
              "\n",
              "    .dataframe thead th {\n",
              "        text-align: right;\n",
              "    }\n",
              "</style>\n",
              "<table border=\"1\" class=\"dataframe\">\n",
              "  <thead>\n",
              "    <tr style=\"text-align: right;\">\n",
              "      <th></th>\n",
              "      <th>MeanP_Alpha_F4</th>\n",
              "      <th>MedianF_Alpha_F4</th>\n",
              "      <th>MeanF_Alpha_F4</th>\n",
              "      <th>Spectral Edge_Alpha_F4</th>\n",
              "      <th>PeakF_Alpha_F4</th>\n",
              "      <th>MeanP_Beta_F4</th>\n",
              "      <th>MedianF_Beta_F4</th>\n",
              "      <th>MeanF_Beta_F4</th>\n",
              "      <th>Spectral Edge_Beta_F4</th>\n",
              "      <th>PeakF_Beta_F4</th>\n",
              "      <th>...</th>\n",
              "      <th>MeanP_Delta_O2</th>\n",
              "      <th>MedianF_Delta_O2</th>\n",
              "      <th>MeanF_Delta_O2</th>\n",
              "      <th>Spectral Edge_Delta_O2</th>\n",
              "      <th>PeakF_Delta_O2</th>\n",
              "      <th>MeanP_Gamma_O2</th>\n",
              "      <th>MedianF_Gamma_O2</th>\n",
              "      <th>MeanF_Gamma_O2</th>\n",
              "      <th>Spectral Edge_Gamma_O2</th>\n",
              "      <th>PeakF_Gamma_O2</th>\n",
              "    </tr>\n",
              "  </thead>\n",
              "  <tbody>\n",
              "    <tr>\n",
              "      <th>0</th>\n",
              "      <td>0.00051</td>\n",
              "      <td>8.74146</td>\n",
              "      <td>18.48195</td>\n",
              "      <td>17.48293</td>\n",
              "      <td>8.24195</td>\n",
              "      <td>0.00071</td>\n",
              "      <td>19.73073</td>\n",
              "      <td>29.84585</td>\n",
              "      <td>33.84195</td>\n",
              "      <td>15.98439</td>\n",
              "      <td>...</td>\n",
              "      <td>0.00724</td>\n",
              "      <td>0.74927</td>\n",
              "      <td>3.87122</td>\n",
              "      <td>1.99805</td>\n",
              "      <td>0.87415</td>\n",
              "      <td>0.000210</td>\n",
              "      <td>35.21561</td>\n",
              "      <td>42.20878</td>\n",
              "      <td>49.95122</td>\n",
              "      <td>49.95122</td>\n",
              "    </tr>\n",
              "    <tr>\n",
              "      <th>1</th>\n",
              "      <td>0.00040</td>\n",
              "      <td>10.24000</td>\n",
              "      <td>17.48293</td>\n",
              "      <td>16.85854</td>\n",
              "      <td>10.61463</td>\n",
              "      <td>0.00051</td>\n",
              "      <td>17.23317</td>\n",
              "      <td>26.34927</td>\n",
              "      <td>29.34634</td>\n",
              "      <td>19.60585</td>\n",
              "      <td>...</td>\n",
              "      <td>0.00723</td>\n",
              "      <td>0.49951</td>\n",
              "      <td>3.74634</td>\n",
              "      <td>1.24878</td>\n",
              "      <td>0.49951</td>\n",
              "      <td>0.000095</td>\n",
              "      <td>34.34146</td>\n",
              "      <td>43.33268</td>\n",
              "      <td>49.95122</td>\n",
              "      <td>49.95122</td>\n",
              "    </tr>\n",
              "    <tr>\n",
              "      <th>2</th>\n",
              "      <td>0.00036</td>\n",
              "      <td>9.74049</td>\n",
              "      <td>17.98244</td>\n",
              "      <td>17.48293</td>\n",
              "      <td>8.74146</td>\n",
              "      <td>0.00047</td>\n",
              "      <td>17.60780</td>\n",
              "      <td>25.47512</td>\n",
              "      <td>28.22244</td>\n",
              "      <td>18.73171</td>\n",
              "      <td>...</td>\n",
              "      <td>0.00230</td>\n",
              "      <td>0.62439</td>\n",
              "      <td>5.24488</td>\n",
              "      <td>2.12293</td>\n",
              "      <td>0.62439</td>\n",
              "      <td>0.000074</td>\n",
              "      <td>34.59122</td>\n",
              "      <td>45.95512</td>\n",
              "      <td>49.95122</td>\n",
              "      <td>49.95122</td>\n",
              "    </tr>\n",
              "    <tr>\n",
              "      <th>3</th>\n",
              "      <td>0.00035</td>\n",
              "      <td>10.11512</td>\n",
              "      <td>17.60780</td>\n",
              "      <td>17.10829</td>\n",
              "      <td>9.61561</td>\n",
              "      <td>0.00047</td>\n",
              "      <td>17.35805</td>\n",
              "      <td>26.47415</td>\n",
              "      <td>28.72195</td>\n",
              "      <td>16.35902</td>\n",
              "      <td>...</td>\n",
              "      <td>0.00091</td>\n",
              "      <td>0.87415</td>\n",
              "      <td>6.61854</td>\n",
              "      <td>3.12195</td>\n",
              "      <td>0.62439</td>\n",
              "      <td>0.000082</td>\n",
              "      <td>32.46829</td>\n",
              "      <td>43.95707</td>\n",
              "      <td>49.95122</td>\n",
              "      <td>49.95122</td>\n",
              "    </tr>\n",
              "    <tr>\n",
              "      <th>4</th>\n",
              "      <td>0.00033</td>\n",
              "      <td>9.74049</td>\n",
              "      <td>17.60780</td>\n",
              "      <td>17.23317</td>\n",
              "      <td>8.11707</td>\n",
              "      <td>0.00043</td>\n",
              "      <td>17.23317</td>\n",
              "      <td>25.84976</td>\n",
              "      <td>28.09756</td>\n",
              "      <td>17.60780</td>\n",
              "      <td>...</td>\n",
              "      <td>0.00175</td>\n",
              "      <td>0.49951</td>\n",
              "      <td>5.74439</td>\n",
              "      <td>2.24780</td>\n",
              "      <td>0.49951</td>\n",
              "      <td>0.000077</td>\n",
              "      <td>33.59220</td>\n",
              "      <td>44.83122</td>\n",
              "      <td>49.95122</td>\n",
              "      <td>49.95122</td>\n",
              "    </tr>\n",
              "  </tbody>\n",
              "</table>\n",
              "<p>5 rows × 75 columns</p>\n",
              "</div>\n",
              "      <button class=\"colab-df-convert\" onclick=\"convertToInteractive('df-f324fd38-cf34-40d7-b117-bd8179158ad3')\"\n",
              "              title=\"Convert this dataframe to an interactive table.\"\n",
              "              style=\"display:none;\">\n",
              "        \n",
              "  <svg xmlns=\"http://www.w3.org/2000/svg\" height=\"24px\"viewBox=\"0 0 24 24\"\n",
              "       width=\"24px\">\n",
              "    <path d=\"M0 0h24v24H0V0z\" fill=\"none\"/>\n",
              "    <path d=\"M18.56 5.44l.94 2.06.94-2.06 2.06-.94-2.06-.94-.94-2.06-.94 2.06-2.06.94zm-11 1L8.5 8.5l.94-2.06 2.06-.94-2.06-.94L8.5 2.5l-.94 2.06-2.06.94zm10 10l.94 2.06.94-2.06 2.06-.94-2.06-.94-.94-2.06-.94 2.06-2.06.94z\"/><path d=\"M17.41 7.96l-1.37-1.37c-.4-.4-.92-.59-1.43-.59-.52 0-1.04.2-1.43.59L10.3 9.45l-7.72 7.72c-.78.78-.78 2.05 0 2.83L4 21.41c.39.39.9.59 1.41.59.51 0 1.02-.2 1.41-.59l7.78-7.78 2.81-2.81c.8-.78.8-2.07 0-2.86zM5.41 20L4 18.59l7.72-7.72 1.47 1.35L5.41 20z\"/>\n",
              "  </svg>\n",
              "      </button>\n",
              "      \n",
              "  <style>\n",
              "    .colab-df-container {\n",
              "      display:flex;\n",
              "      flex-wrap:wrap;\n",
              "      gap: 12px;\n",
              "    }\n",
              "\n",
              "    .colab-df-convert {\n",
              "      background-color: #E8F0FE;\n",
              "      border: none;\n",
              "      border-radius: 50%;\n",
              "      cursor: pointer;\n",
              "      display: none;\n",
              "      fill: #1967D2;\n",
              "      height: 32px;\n",
              "      padding: 0 0 0 0;\n",
              "      width: 32px;\n",
              "    }\n",
              "\n",
              "    .colab-df-convert:hover {\n",
              "      background-color: #E2EBFA;\n",
              "      box-shadow: 0px 1px 2px rgba(60, 64, 67, 0.3), 0px 1px 3px 1px rgba(60, 64, 67, 0.15);\n",
              "      fill: #174EA6;\n",
              "    }\n",
              "\n",
              "    [theme=dark] .colab-df-convert {\n",
              "      background-color: #3B4455;\n",
              "      fill: #D2E3FC;\n",
              "    }\n",
              "\n",
              "    [theme=dark] .colab-df-convert:hover {\n",
              "      background-color: #434B5C;\n",
              "      box-shadow: 0px 1px 3px 1px rgba(0, 0, 0, 0.15);\n",
              "      filter: drop-shadow(0px 1px 2px rgba(0, 0, 0, 0.3));\n",
              "      fill: #FFFFFF;\n",
              "    }\n",
              "  </style>\n",
              "\n",
              "      <script>\n",
              "        const buttonEl =\n",
              "          document.querySelector('#df-f324fd38-cf34-40d7-b117-bd8179158ad3 button.colab-df-convert');\n",
              "        buttonEl.style.display =\n",
              "          google.colab.kernel.accessAllowed ? 'block' : 'none';\n",
              "\n",
              "        async function convertToInteractive(key) {\n",
              "          const element = document.querySelector('#df-f324fd38-cf34-40d7-b117-bd8179158ad3');\n",
              "          const dataTable =\n",
              "            await google.colab.kernel.invokeFunction('convertToInteractive',\n",
              "                                                     [key], {});\n",
              "          if (!dataTable) return;\n",
              "\n",
              "          const docLinkHtml = 'Like what you see? Visit the ' +\n",
              "            '<a target=\"_blank\" href=https://colab.research.google.com/notebooks/data_table.ipynb>data table notebook</a>'\n",
              "            + ' to learn more about interactive tables.';\n",
              "          element.innerHTML = '';\n",
              "          dataTable['output_type'] = 'display_data';\n",
              "          await google.colab.output.renderOutput(dataTable, element);\n",
              "          const docLink = document.createElement('div');\n",
              "          docLink.innerHTML = docLinkHtml;\n",
              "          element.appendChild(docLink);\n",
              "        }\n",
              "      </script>\n",
              "    </div>\n",
              "  </div>\n",
              "  "
            ]
          },
          "metadata": {},
          "execution_count": 301
        }
      ]
    },
    {
      "cell_type": "code",
      "source": [
        "#Y= df.loc[:,[target]]\n",
        "Y = df[target]"
      ],
      "metadata": {
        "id": "agrdtkC5ReXz"
      },
      "execution_count": 302,
      "outputs": []
    },
    {
      "cell_type": "code",
      "source": [
        "Y.head()"
      ],
      "metadata": {
        "colab": {
          "base_uri": "https://localhost:8080/"
        },
        "id": "UgSLyBSqSRPV",
        "outputId": "a0112f68-c9b4-40be-843a-a82e37d3f701"
      },
      "execution_count": 303,
      "outputs": [
        {
          "output_type": "execute_result",
          "data": {
            "text/plain": [
              "0    2\n",
              "1    2\n",
              "2    2\n",
              "3    2\n",
              "4    2\n",
              "Name: Sleep Stage, dtype: int64"
            ]
          },
          "metadata": {},
          "execution_count": 303
        }
      ]
    },
    {
      "cell_type": "markdown",
      "source": [
        "#Spliting in testing and trials"
      ],
      "metadata": {
        "id": "ZQteqoFqSmcq"
      }
    },
    {
      "cell_type": "code",
      "source": [
        "from sklearn.model_selection import train_test_split\n",
        "\n",
        "X_train, X_test, Y_train, Y_test = train_test_split(X,Y, test_size = 0.2)"
      ],
      "metadata": {
        "id": "b9n6SE0hSejE"
      },
      "execution_count": 304,
      "outputs": []
    },
    {
      "cell_type": "markdown",
      "source": [
        "#Training Phase"
      ],
      "metadata": {
        "id": "pWjFwtnOTaHe"
      }
    },
    {
      "cell_type": "markdown",
      "source": [
        "RandomForest\n"
      ],
      "metadata": {
        "id": "VmfFA8dgWpLU"
      }
    },
    {
      "cell_type": "code",
      "source": [
        "%%time\n",
        "from sklearn.ensemble import RandomForestClassifier       #importing libraries\n",
        "\n",
        "rf = RandomForestClassifier(n_jobs = -1)                 #creating method of algorithm with default parameter\n",
        "\n",
        "rf.fit(X_train,Y_train)                                  #training with x_train, y_train /model fitting/ data feeding/ training\n",
        "\n",
        "y_pred =rf.predict(X_test)                               #prediction"
      ],
      "metadata": {
        "colab": {
          "base_uri": "https://localhost:8080/"
        },
        "id": "piDNlNVlTftN",
        "outputId": "ac173621-ae1c-4e69-ef00-1694385608bb"
      },
      "execution_count": 305,
      "outputs": [
        {
          "output_type": "stream",
          "name": "stdout",
          "text": [
            "CPU times: user 1.27 s, sys: 47.7 ms, total: 1.32 s\n",
            "Wall time: 796 ms\n"
          ]
        }
      ]
    },
    {
      "cell_type": "code",
      "source": [
        "from sklearn.metrics import accuracy_score\n",
        "\n",
        "score = accuracy_score(Y_test, y_pred)"
      ],
      "metadata": {
        "id": "An-Svn89YR8q"
      },
      "execution_count": 306,
      "outputs": []
    },
    {
      "cell_type": "code",
      "source": [
        "print(score)"
      ],
      "metadata": {
        "colab": {
          "base_uri": "https://localhost:8080/"
        },
        "id": "6RHfHmFuXq_e",
        "outputId": "6e06507c-d692-4129-854d-f47bbebae4e4"
      },
      "execution_count": 307,
      "outputs": [
        {
          "output_type": "stream",
          "name": "stdout",
          "text": [
            "0.9233333333333333\n"
          ]
        }
      ]
    },
    {
      "cell_type": "code",
      "source": [
        "X.loc[101:101,:]"
      ],
      "metadata": {
        "colab": {
          "base_uri": "https://localhost:8080/",
          "height": 191
        },
        "id": "jIYT_FJ8YuMv",
        "outputId": "1e729ccd-814f-4c0f-c349-cca3369e14f5"
      },
      "execution_count": 308,
      "outputs": [
        {
          "output_type": "execute_result",
          "data": {
            "text/plain": [
              "     MeanP_Alpha_F4  MedianF_Alpha_F4  MeanF_Alpha_F4  Spectral Edge_Alpha_F4  \\\n",
              "101         0.00095             10.24        14.36098                13.23707   \n",
              "\n",
              "     PeakF_Alpha_F4  MeanP_Beta_F4  MedianF_Beta_F4  MeanF_Beta_F4  \\\n",
              "101        10.48976        0.00081         13.61171       27.59805   \n",
              "\n",
              "     Spectral Edge_Beta_F4  PeakF_Beta_F4  ...  MeanP_Delta_O2  \\\n",
              "101               31.34439       10.48976  ...         0.00554   \n",
              "\n",
              "     MedianF_Delta_O2  MeanF_Delta_O2  Spectral Edge_Delta_O2  PeakF_Delta_O2  \\\n",
              "101           0.74927         4.62049                 2.49756         0.74927   \n",
              "\n",
              "     MeanP_Gamma_O2  MedianF_Gamma_O2  MeanF_Gamma_O2  Spectral Edge_Gamma_O2  \\\n",
              "101          0.0002           36.9639         43.8322                50.70049   \n",
              "\n",
              "     PeakF_Gamma_O2  \n",
              "101        49.95122  \n",
              "\n",
              "[1 rows x 75 columns]"
            ],
            "text/html": [
              "\n",
              "  <div id=\"df-739bb887-a710-4954-8fb7-f94e88664e05\">\n",
              "    <div class=\"colab-df-container\">\n",
              "      <div>\n",
              "<style scoped>\n",
              "    .dataframe tbody tr th:only-of-type {\n",
              "        vertical-align: middle;\n",
              "    }\n",
              "\n",
              "    .dataframe tbody tr th {\n",
              "        vertical-align: top;\n",
              "    }\n",
              "\n",
              "    .dataframe thead th {\n",
              "        text-align: right;\n",
              "    }\n",
              "</style>\n",
              "<table border=\"1\" class=\"dataframe\">\n",
              "  <thead>\n",
              "    <tr style=\"text-align: right;\">\n",
              "      <th></th>\n",
              "      <th>MeanP_Alpha_F4</th>\n",
              "      <th>MedianF_Alpha_F4</th>\n",
              "      <th>MeanF_Alpha_F4</th>\n",
              "      <th>Spectral Edge_Alpha_F4</th>\n",
              "      <th>PeakF_Alpha_F4</th>\n",
              "      <th>MeanP_Beta_F4</th>\n",
              "      <th>MedianF_Beta_F4</th>\n",
              "      <th>MeanF_Beta_F4</th>\n",
              "      <th>Spectral Edge_Beta_F4</th>\n",
              "      <th>PeakF_Beta_F4</th>\n",
              "      <th>...</th>\n",
              "      <th>MeanP_Delta_O2</th>\n",
              "      <th>MedianF_Delta_O2</th>\n",
              "      <th>MeanF_Delta_O2</th>\n",
              "      <th>Spectral Edge_Delta_O2</th>\n",
              "      <th>PeakF_Delta_O2</th>\n",
              "      <th>MeanP_Gamma_O2</th>\n",
              "      <th>MedianF_Gamma_O2</th>\n",
              "      <th>MeanF_Gamma_O2</th>\n",
              "      <th>Spectral Edge_Gamma_O2</th>\n",
              "      <th>PeakF_Gamma_O2</th>\n",
              "    </tr>\n",
              "  </thead>\n",
              "  <tbody>\n",
              "    <tr>\n",
              "      <th>101</th>\n",
              "      <td>0.00095</td>\n",
              "      <td>10.24</td>\n",
              "      <td>14.36098</td>\n",
              "      <td>13.23707</td>\n",
              "      <td>10.48976</td>\n",
              "      <td>0.00081</td>\n",
              "      <td>13.61171</td>\n",
              "      <td>27.59805</td>\n",
              "      <td>31.34439</td>\n",
              "      <td>10.48976</td>\n",
              "      <td>...</td>\n",
              "      <td>0.00554</td>\n",
              "      <td>0.74927</td>\n",
              "      <td>4.62049</td>\n",
              "      <td>2.49756</td>\n",
              "      <td>0.74927</td>\n",
              "      <td>0.0002</td>\n",
              "      <td>36.9639</td>\n",
              "      <td>43.8322</td>\n",
              "      <td>50.70049</td>\n",
              "      <td>49.95122</td>\n",
              "    </tr>\n",
              "  </tbody>\n",
              "</table>\n",
              "<p>1 rows × 75 columns</p>\n",
              "</div>\n",
              "      <button class=\"colab-df-convert\" onclick=\"convertToInteractive('df-739bb887-a710-4954-8fb7-f94e88664e05')\"\n",
              "              title=\"Convert this dataframe to an interactive table.\"\n",
              "              style=\"display:none;\">\n",
              "        \n",
              "  <svg xmlns=\"http://www.w3.org/2000/svg\" height=\"24px\"viewBox=\"0 0 24 24\"\n",
              "       width=\"24px\">\n",
              "    <path d=\"M0 0h24v24H0V0z\" fill=\"none\"/>\n",
              "    <path d=\"M18.56 5.44l.94 2.06.94-2.06 2.06-.94-2.06-.94-.94-2.06-.94 2.06-2.06.94zm-11 1L8.5 8.5l.94-2.06 2.06-.94-2.06-.94L8.5 2.5l-.94 2.06-2.06.94zm10 10l.94 2.06.94-2.06 2.06-.94-2.06-.94-.94-2.06-.94 2.06-2.06.94z\"/><path d=\"M17.41 7.96l-1.37-1.37c-.4-.4-.92-.59-1.43-.59-.52 0-1.04.2-1.43.59L10.3 9.45l-7.72 7.72c-.78.78-.78 2.05 0 2.83L4 21.41c.39.39.9.59 1.41.59.51 0 1.02-.2 1.41-.59l7.78-7.78 2.81-2.81c.8-.78.8-2.07 0-2.86zM5.41 20L4 18.59l7.72-7.72 1.47 1.35L5.41 20z\"/>\n",
              "  </svg>\n",
              "      </button>\n",
              "      \n",
              "  <style>\n",
              "    .colab-df-container {\n",
              "      display:flex;\n",
              "      flex-wrap:wrap;\n",
              "      gap: 12px;\n",
              "    }\n",
              "\n",
              "    .colab-df-convert {\n",
              "      background-color: #E8F0FE;\n",
              "      border: none;\n",
              "      border-radius: 50%;\n",
              "      cursor: pointer;\n",
              "      display: none;\n",
              "      fill: #1967D2;\n",
              "      height: 32px;\n",
              "      padding: 0 0 0 0;\n",
              "      width: 32px;\n",
              "    }\n",
              "\n",
              "    .colab-df-convert:hover {\n",
              "      background-color: #E2EBFA;\n",
              "      box-shadow: 0px 1px 2px rgba(60, 64, 67, 0.3), 0px 1px 3px 1px rgba(60, 64, 67, 0.15);\n",
              "      fill: #174EA6;\n",
              "    }\n",
              "\n",
              "    [theme=dark] .colab-df-convert {\n",
              "      background-color: #3B4455;\n",
              "      fill: #D2E3FC;\n",
              "    }\n",
              "\n",
              "    [theme=dark] .colab-df-convert:hover {\n",
              "      background-color: #434B5C;\n",
              "      box-shadow: 0px 1px 3px 1px rgba(0, 0, 0, 0.15);\n",
              "      filter: drop-shadow(0px 1px 2px rgba(0, 0, 0, 0.3));\n",
              "      fill: #FFFFFF;\n",
              "    }\n",
              "  </style>\n",
              "\n",
              "      <script>\n",
              "        const buttonEl =\n",
              "          document.querySelector('#df-739bb887-a710-4954-8fb7-f94e88664e05 button.colab-df-convert');\n",
              "        buttonEl.style.display =\n",
              "          google.colab.kernel.accessAllowed ? 'block' : 'none';\n",
              "\n",
              "        async function convertToInteractive(key) {\n",
              "          const element = document.querySelector('#df-739bb887-a710-4954-8fb7-f94e88664e05');\n",
              "          const dataTable =\n",
              "            await google.colab.kernel.invokeFunction('convertToInteractive',\n",
              "                                                     [key], {});\n",
              "          if (!dataTable) return;\n",
              "\n",
              "          const docLinkHtml = 'Like what you see? Visit the ' +\n",
              "            '<a target=\"_blank\" href=https://colab.research.google.com/notebooks/data_table.ipynb>data table notebook</a>'\n",
              "            + ' to learn more about interactive tables.';\n",
              "          element.innerHTML = '';\n",
              "          dataTable['output_type'] = 'display_data';\n",
              "          await google.colab.output.renderOutput(dataTable, element);\n",
              "          const docLink = document.createElement('div');\n",
              "          docLink.innerHTML = docLinkHtml;\n",
              "          element.appendChild(docLink);\n",
              "        }\n",
              "      </script>\n",
              "    </div>\n",
              "  </div>\n",
              "  "
            ]
          },
          "metadata": {},
          "execution_count": 308
        }
      ]
    },
    {
      "cell_type": "code",
      "source": [
        "s_stage = rf.predict(X.loc[101:101,:])\n",
        "print(score)"
      ],
      "metadata": {
        "colab": {
          "base_uri": "https://localhost:8080/"
        },
        "id": "i8DFnvbTZOVg",
        "outputId": "2d019056-ebb0-43e2-b625-c38d3e793d56"
      },
      "execution_count": 309,
      "outputs": [
        {
          "output_type": "stream",
          "name": "stdout",
          "text": [
            "0.9233333333333333\n"
          ]
        }
      ]
    },
    {
      "cell_type": "code",
      "source": [
        "Y[101]"
      ],
      "metadata": {
        "id": "q7wf2DQ3ZoSP"
      },
      "execution_count": null,
      "outputs": []
    },
    {
      "cell_type": "markdown",
      "source": [
        "#Model Save"
      ],
      "metadata": {
        "id": "sZD9wD-2WvV_"
      }
    },
    {
      "cell_type": "code",
      "source": [
        "import joblib\n",
        "\n",
        "joblib.dump(rf, \"randomforest_s_stage\")"
      ],
      "metadata": {
        "colab": {
          "base_uri": "https://localhost:8080/"
        },
        "id": "WZ_EaLkTZ1cH",
        "outputId": "aa61c26b-6abf-4fd4-d881-099790865db0"
      },
      "execution_count": 311,
      "outputs": [
        {
          "output_type": "execute_result",
          "data": {
            "text/plain": [
              "['randomforest_s_stage']"
            ]
          },
          "metadata": {},
          "execution_count": 311
        }
      ]
    },
    {
      "cell_type": "markdown",
      "source": [
        "Adaboost\n"
      ],
      "metadata": {
        "id": "zaPK6uXxaRCY"
      }
    },
    {
      "cell_type": "code",
      "source": [
        "%%time\n",
        "from sklearn.ensemble import AdaBoostClassifier            #import libraries     \n",
        "\n",
        "ada = AdaBoostClassifier()                                 #creating method of algorithm with default parameter\n",
        "\n",
        "ada.fit(X_train, Y_train)                                  #training with x_train, y_train                                  \n",
        "\n",
        "y_pred = ada.predict(X_test)                               #prediction"
      ],
      "metadata": {
        "colab": {
          "base_uri": "https://localhost:8080/"
        },
        "id": "j44S2TbOaTKQ",
        "outputId": "9d3c2305-7bf3-47c4-bad7-082492e5abd5"
      },
      "execution_count": 316,
      "outputs": [
        {
          "output_type": "stream",
          "name": "stdout",
          "text": [
            "CPU times: user 642 ms, sys: 0 ns, total: 642 ms\n",
            "Wall time: 643 ms\n"
          ]
        }
      ]
    },
    {
      "cell_type": "code",
      "source": [
        "from sklearn.metrics import accuracy_score\n",
        "\n",
        "score = accuracy_score(Y_test, y_pred)\n",
        "\n",
        "print(score)"
      ],
      "metadata": {
        "colab": {
          "base_uri": "https://localhost:8080/"
        },
        "id": "xq-cUPddb7p2",
        "outputId": "445a1022-fba7-4df7-c0f0-8e6dbb314b1f"
      },
      "execution_count": 317,
      "outputs": [
        {
          "output_type": "stream",
          "name": "stdout",
          "text": [
            "0.7833333333333333\n"
          ]
        }
      ]
    },
    {
      "cell_type": "markdown",
      "source": [
        "GradientBossting"
      ],
      "metadata": {
        "id": "4eg89dwDcQ1Q"
      }
    },
    {
      "cell_type": "code",
      "source": [
        "from sklearn.ensemble import GradientBoostingClassifier\n",
        "\n",
        "gb = GradientBoostingClassifier()\n",
        "\n",
        "gb.fit(X_train, Y_train)\n",
        "\n",
        "y_pred = gb.predict(X_test)   "
      ],
      "metadata": {
        "id": "cIjm1TvgcaBz"
      },
      "execution_count": 314,
      "outputs": []
    },
    {
      "cell_type": "code",
      "source": [
        "from sklearn.metrics import accuracy_score\n",
        "\n",
        "score = accuracy_score(Y_test, y_pred)\n",
        "\n",
        "print(score)"
      ],
      "metadata": {
        "colab": {
          "base_uri": "https://localhost:8080/"
        },
        "id": "mI9vfk_RdHXY",
        "outputId": "d13e5b21-e1be-441a-bf62-8a1c393d632b"
      },
      "execution_count": 315,
      "outputs": [
        {
          "output_type": "stream",
          "name": "stdout",
          "text": [
            "0.9233333333333333\n"
          ]
        }
      ]
    },
    {
      "cell_type": "markdown",
      "source": [
        "KNN"
      ],
      "metadata": {
        "id": "Heb6ilxmeB1p"
      }
    },
    {
      "cell_type": "code",
      "source": [
        "from sklearn.neighbors import KNeighborsClassifier\n",
        "\n",
        "neigh = KNeighborsClassifier()\n",
        "\n",
        "neigh.fit(X, Y)\n",
        "\n",
        "y_pred = neigh.predict(X_test)\n"
      ],
      "metadata": {
        "id": "yW1spR7XeDY7"
      },
      "execution_count": 318,
      "outputs": []
    },
    {
      "cell_type": "code",
      "source": [
        "from sklearn.metrics import accuracy_score\n",
        "\n",
        "score = accuracy_score(Y_test, y_pred)\n",
        "\n",
        "print(score)"
      ],
      "metadata": {
        "colab": {
          "base_uri": "https://localhost:8080/"
        },
        "id": "4mJp22pYr7pe",
        "outputId": "f785cb78-570e-4231-aa97-b9901f9f5913"
      },
      "execution_count": 319,
      "outputs": [
        {
          "output_type": "stream",
          "name": "stdout",
          "text": [
            "0.9\n"
          ]
        }
      ]
    },
    {
      "cell_type": "markdown",
      "source": [
        "Naive Byes"
      ],
      "metadata": {
        "id": "Mpy7hlEgeaTm"
      }
    },
    {
      "cell_type": "code",
      "source": [
        "from sklearn.naive_bayes import GaussianNB\n",
        "\n",
        "gnb = GaussianNB()\n",
        "\n",
        "gnb.fit(X_train, Y_train)\n",
        "\n",
        "y_pred = neigh.predict(X_test)"
      ],
      "metadata": {
        "id": "N35uJpkYeczF"
      },
      "execution_count": 320,
      "outputs": []
    },
    {
      "cell_type": "code",
      "source": [
        "from sklearn.metrics import accuracy_score\n",
        "\n",
        "score = accuracy_score(Y_test, y_pred)\n",
        "\n",
        "print(score)"
      ],
      "metadata": {
        "colab": {
          "base_uri": "https://localhost:8080/"
        },
        "id": "DiACQzFaskFx",
        "outputId": "ce96f11c-b498-4107-c988-be78f4891c57"
      },
      "execution_count": 321,
      "outputs": [
        {
          "output_type": "stream",
          "name": "stdout",
          "text": [
            "0.9\n"
          ]
        }
      ]
    }
  ]
}